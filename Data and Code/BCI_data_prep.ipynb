{
  "cells": [
    {
      "cell_type": "markdown",
      "metadata": {
        "id": "EV4SAycAiVv6"
      },
      "source": [
        "# Load and prep data"
      ]
    },
    {
      "cell_type": "markdown",
      "metadata": {},
      "source": []
    },
    {
      "cell_type": "code",
      "execution_count": null,
      "metadata": {
        "colab": {
          "base_uri": "https://localhost:8080/"
        },
        "id": "Z1DtjIasiSMF",
        "outputId": "6cfa8448-cdd7-40bd-bd6c-e6c5760d77d3"
      },
      "outputs": [
        {
          "name": "stdout",
          "output_type": "stream",
          "text": [
            "Collecting pyhrv\n",
            "  Downloading pyhrv-0.4.1-py3-none-any.whl (3.2 MB)\n",
            "\u001b[2K     \u001b[90m━━━━━━━━━━━━━━━━━━━━━━━━━━━━━━━━━━━━━━━━\u001b[0m \u001b[32m3.2/3.2 MB\u001b[0m \u001b[31m11.1 MB/s\u001b[0m eta \u001b[36m0:00:00\u001b[0m\n",
            "\u001b[?25hCollecting biosppy (from pyhrv)\n",
            "  Downloading biosppy-2.2.2-py2.py3-none-any.whl (149 kB)\n",
            "\u001b[2K     \u001b[90m━━━━━━━━━━━━━━━━━━━━━━━━━━━━━━━━━━━━━━━━\u001b[0m \u001b[32m149.4/149.4 kB\u001b[0m \u001b[31m12.7 MB/s\u001b[0m eta \u001b[36m0:00:00\u001b[0m\n",
            "\u001b[?25hRequirement already satisfied: matplotlib in /usr/local/lib/python3.10/dist-packages (from pyhrv) (3.7.1)\n",
            "Requirement already satisfied: numpy in /usr/local/lib/python3.10/dist-packages (from pyhrv) (1.25.2)\n",
            "Requirement already satisfied: scipy in /usr/local/lib/python3.10/dist-packages (from pyhrv) (1.11.4)\n",
            "Collecting nolds (from pyhrv)\n",
            "  Downloading nolds-0.5.2-py2.py3-none-any.whl (39 kB)\n",
            "Collecting spectrum (from pyhrv)\n",
            "  Downloading spectrum-0.8.1.tar.gz (230 kB)\n",
            "\u001b[2K     \u001b[90m━━━━━━━━━━━━━━━━━━━━━━━━━━━━━━━━━━━━━━━━\u001b[0m \u001b[32m230.8/230.8 kB\u001b[0m \u001b[31m5.8 MB/s\u001b[0m eta \u001b[36m0:00:00\u001b[0m\n",
            "\u001b[?25h  Preparing metadata (setup.py) ... \u001b[?25l\u001b[?25hdone\n",
            "Requirement already satisfied: bidict in /usr/local/lib/python3.10/dist-packages (from biosppy->pyhrv) (0.23.1)\n",
            "Requirement already satisfied: h5py in /usr/local/lib/python3.10/dist-packages (from biosppy->pyhrv) (3.9.0)\n",
            "Requirement already satisfied: scikit-learn in /usr/local/lib/python3.10/dist-packages (from biosppy->pyhrv) (1.2.2)\n",
            "Collecting shortuuid (from biosppy->pyhrv)\n",
            "  Downloading shortuuid-1.0.13-py3-none-any.whl (10 kB)\n",
            "Requirement already satisfied: six in /usr/local/lib/python3.10/dist-packages (from biosppy->pyhrv) (1.16.0)\n",
            "Requirement already satisfied: joblib in /usr/local/lib/python3.10/dist-packages (from biosppy->pyhrv) (1.4.2)\n",
            "Requirement already satisfied: opencv-python in /usr/local/lib/python3.10/dist-packages (from biosppy->pyhrv) (4.8.0.76)\n",
            "Requirement already satisfied: pywavelets in /usr/local/lib/python3.10/dist-packages (from biosppy->pyhrv) (1.6.0)\n",
            "Collecting mock (from biosppy->pyhrv)\n",
            "  Downloading mock-5.1.0-py3-none-any.whl (30 kB)\n",
            "Requirement already satisfied: contourpy>=1.0.1 in /usr/local/lib/python3.10/dist-packages (from matplotlib->pyhrv) (1.2.1)\n",
            "Requirement already satisfied: cycler>=0.10 in /usr/local/lib/python3.10/dist-packages (from matplotlib->pyhrv) (0.12.1)\n",
            "Requirement already satisfied: fonttools>=4.22.0 in /usr/local/lib/python3.10/dist-packages (from matplotlib->pyhrv) (4.53.0)\n",
            "Requirement already satisfied: kiwisolver>=1.0.1 in /usr/local/lib/python3.10/dist-packages (from matplotlib->pyhrv) (1.4.5)\n",
            "Requirement already satisfied: packaging>=20.0 in /usr/local/lib/python3.10/dist-packages (from matplotlib->pyhrv) (24.1)\n",
            "Requirement already satisfied: pillow>=6.2.0 in /usr/local/lib/python3.10/dist-packages (from matplotlib->pyhrv) (9.4.0)\n",
            "Requirement already satisfied: pyparsing>=2.3.1 in /usr/local/lib/python3.10/dist-packages (from matplotlib->pyhrv) (3.1.2)\n",
            "Requirement already satisfied: python-dateutil>=2.7 in /usr/local/lib/python3.10/dist-packages (from matplotlib->pyhrv) (2.8.2)\n",
            "Requirement already satisfied: future in /usr/local/lib/python3.10/dist-packages (from nolds->pyhrv) (0.18.3)\n",
            "Requirement already satisfied: setuptools in /usr/local/lib/python3.10/dist-packages (from nolds->pyhrv) (67.7.2)\n",
            "Collecting easydev (from spectrum->pyhrv)\n",
            "  Downloading easydev-0.13.2-py3-none-any.whl (56 kB)\n",
            "\u001b[2K     \u001b[90m━━━━━━━━━━━━━━━━━━━━━━━━━━━━━━━━━━━━━━━━\u001b[0m \u001b[32m56.8/56.8 kB\u001b[0m \u001b[31m1.9 MB/s\u001b[0m eta \u001b[36m0:00:00\u001b[0m\n",
            "\u001b[?25hCollecting colorama<0.5.0,>=0.4.6 (from easydev->spectrum->pyhrv)\n",
            "  Downloading colorama-0.4.6-py2.py3-none-any.whl (25 kB)\n",
            "Collecting colorlog<7.0.0,>=6.8.2 (from easydev->spectrum->pyhrv)\n",
            "  Downloading colorlog-6.8.2-py3-none-any.whl (11 kB)\n",
            "Collecting line-profiler<5.0.0,>=4.1.2 (from easydev->spectrum->pyhrv)\n",
            "  Downloading line_profiler-4.1.3-cp310-cp310-manylinux_2_17_x86_64.manylinux2014_x86_64.whl (717 kB)\n",
            "\u001b[2K     \u001b[90m━━━━━━━━━━━━━━━━━━━━━━━━━━━━━━━━━━━━━━━━\u001b[0m \u001b[32m717.6/717.6 kB\u001b[0m \u001b[31m16.8 MB/s\u001b[0m eta \u001b[36m0:00:00\u001b[0m\n",
            "\u001b[?25hRequirement already satisfied: pexpect<5.0.0,>=4.9.0 in /usr/local/lib/python3.10/dist-packages (from easydev->spectrum->pyhrv) (4.9.0)\n",
            "Requirement already satisfied: platformdirs<5.0.0,>=4.2.0 in /usr/local/lib/python3.10/dist-packages (from easydev->spectrum->pyhrv) (4.2.2)\n",
            "Requirement already satisfied: threadpoolctl>=2.0.0 in /usr/local/lib/python3.10/dist-packages (from scikit-learn->biosppy->pyhrv) (3.5.0)\n",
            "Requirement already satisfied: ptyprocess>=0.5 in /usr/local/lib/python3.10/dist-packages (from pexpect<5.0.0,>=4.9.0->easydev->spectrum->pyhrv) (0.7.0)\n",
            "Building wheels for collected packages: spectrum\n",
            "  Building wheel for spectrum (setup.py) ... \u001b[?25l\u001b[?25hdone\n",
            "  Created wheel for spectrum: filename=spectrum-0.8.1-cp310-cp310-linux_x86_64.whl size=236594 sha256=e2b763ab46650c56ed33257429ea1683a389bfb7925351437379e5d0d78196dc\n",
            "  Stored in directory: /root/.cache/pip/wheels/e7/5a/09/ffc6afdf8a5a6f58e9851292108df32bb11374e11b8705cabd\n",
            "Successfully built spectrum\n",
            "Installing collected packages: shortuuid, nolds, mock, line-profiler, colorlog, colorama, easydev, spectrum, biosppy, pyhrv\n",
            "Successfully installed biosppy-2.2.2 colorama-0.4.6 colorlog-6.8.2 easydev-0.13.2 line-profiler-4.1.3 mock-5.1.0 nolds-0.5.2 pyhrv-0.4.1 shortuuid-1.0.13 spectrum-0.8.1\n"
          ]
        }
      ],
      "source": [
        "!pip install pyhrv"
      ]
    },
    {
      "cell_type": "code",
      "execution_count": null,
      "metadata": {
        "colab": {
          "base_uri": "https://localhost:8080/"
        },
        "id": "gfirTMbhUdcf",
        "outputId": "4c91bf80-76f2-4972-be55-2a36e150d97f"
      },
      "outputs": [
        {
          "name": "stdout",
          "output_type": "stream",
          "text": [
            "Collecting mne\n",
            "  Downloading mne-1.7.1-py3-none-any.whl (7.4 MB)\n",
            "\u001b[2K     \u001b[90m━━━━━━━━━━━━━━━━━━━━━━━━━━━━━━━━━━━━━━━━\u001b[0m \u001b[32m7.4/7.4 MB\u001b[0m \u001b[31m29.9 MB/s\u001b[0m eta \u001b[36m0:00:00\u001b[0m\n",
            "\u001b[?25hRequirement already satisfied: decorator in /usr/local/lib/python3.10/dist-packages (from mne) (4.4.2)\n",
            "Requirement already satisfied: jinja2 in /usr/local/lib/python3.10/dist-packages (from mne) (3.1.4)\n",
            "Requirement already satisfied: lazy-loader>=0.3 in /usr/local/lib/python3.10/dist-packages (from mne) (0.4)\n",
            "Requirement already satisfied: matplotlib>=3.5.0 in /usr/local/lib/python3.10/dist-packages (from mne) (3.7.1)\n",
            "Requirement already satisfied: numpy>=1.21.2 in /usr/local/lib/python3.10/dist-packages (from mne) (1.25.2)\n",
            "Requirement already satisfied: packaging in /usr/local/lib/python3.10/dist-packages (from mne) (24.1)\n",
            "Requirement already satisfied: pooch>=1.5 in /usr/local/lib/python3.10/dist-packages (from mne) (1.8.2)\n",
            "Requirement already satisfied: scipy>=1.7.1 in /usr/local/lib/python3.10/dist-packages (from mne) (1.11.4)\n",
            "Requirement already satisfied: tqdm in /usr/local/lib/python3.10/dist-packages (from mne) (4.66.4)\n",
            "Requirement already satisfied: contourpy>=1.0.1 in /usr/local/lib/python3.10/dist-packages (from matplotlib>=3.5.0->mne) (1.2.1)\n",
            "Requirement already satisfied: cycler>=0.10 in /usr/local/lib/python3.10/dist-packages (from matplotlib>=3.5.0->mne) (0.12.1)\n",
            "Requirement already satisfied: fonttools>=4.22.0 in /usr/local/lib/python3.10/dist-packages (from matplotlib>=3.5.0->mne) (4.53.0)\n",
            "Requirement already satisfied: kiwisolver>=1.0.1 in /usr/local/lib/python3.10/dist-packages (from matplotlib>=3.5.0->mne) (1.4.5)\n",
            "Requirement already satisfied: pillow>=6.2.0 in /usr/local/lib/python3.10/dist-packages (from matplotlib>=3.5.0->mne) (9.4.0)\n",
            "Requirement already satisfied: pyparsing>=2.3.1 in /usr/local/lib/python3.10/dist-packages (from matplotlib>=3.5.0->mne) (3.1.2)\n",
            "Requirement already satisfied: python-dateutil>=2.7 in /usr/local/lib/python3.10/dist-packages (from matplotlib>=3.5.0->mne) (2.8.2)\n",
            "Requirement already satisfied: platformdirs>=2.5.0 in /usr/local/lib/python3.10/dist-packages (from pooch>=1.5->mne) (4.2.2)\n",
            "Requirement already satisfied: requests>=2.19.0 in /usr/local/lib/python3.10/dist-packages (from pooch>=1.5->mne) (2.31.0)\n",
            "Requirement already satisfied: MarkupSafe>=2.0 in /usr/local/lib/python3.10/dist-packages (from jinja2->mne) (2.1.5)\n",
            "Requirement already satisfied: six>=1.5 in /usr/local/lib/python3.10/dist-packages (from python-dateutil>=2.7->matplotlib>=3.5.0->mne) (1.16.0)\n",
            "Requirement already satisfied: charset-normalizer<4,>=2 in /usr/local/lib/python3.10/dist-packages (from requests>=2.19.0->pooch>=1.5->mne) (3.3.2)\n",
            "Requirement already satisfied: idna<4,>=2.5 in /usr/local/lib/python3.10/dist-packages (from requests>=2.19.0->pooch>=1.5->mne) (3.7)\n",
            "Requirement already satisfied: urllib3<3,>=1.21.1 in /usr/local/lib/python3.10/dist-packages (from requests>=2.19.0->pooch>=1.5->mne) (2.0.7)\n",
            "Requirement already satisfied: certifi>=2017.4.17 in /usr/local/lib/python3.10/dist-packages (from requests>=2.19.0->pooch>=1.5->mne) (2024.6.2)\n",
            "Installing collected packages: mne\n",
            "Successfully installed mne-1.7.1\n"
          ]
        }
      ],
      "source": [
        "!pip install mne"
      ]
    },
    {
      "cell_type": "code",
      "execution_count": null,
      "metadata": {
        "id": "zbM61jJwiUvE"
      },
      "outputs": [],
      "source": [
        "import os\n",
        "import pandas as pd\n",
        "import json\n",
        "import matplotlib.pyplot as plt\n",
        "import numpy as np\n",
        "import pyhrv\n",
        "import scipy\n",
        "from collections import defaultdict\n",
        "from matplotlib import pyplot as plt"
      ]
    },
    {
      "cell_type": "code",
      "execution_count": null,
      "metadata": {
        "colab": {
          "base_uri": "https://localhost:8080/"
        },
        "id": "uB0fyY1DO9tS",
        "outputId": "aa5a1c19-93f8-4ab6-ff9f-e11505215d41"
      },
      "outputs": [
        {
          "name": "stdout",
          "output_type": "stream",
          "text": [
            "Mounted at /content/drive\n"
          ]
        }
      ],
      "source": [
        "from google.colab import drive\n",
        "drive.mount('/content/drive')"
      ]
    },
    {
      "cell_type": "code",
      "execution_count": null,
      "metadata": {
        "id": "gzFMXjB9icnF"
      },
      "outputs": [],
      "source": [
        "# change directory to the original dataset\n",
        "os.chdir('./eSports_Sensors_Dataset-master')\n"
      ]
    },
    {
      "cell_type": "code",
      "execution_count": null,
      "metadata": {
        "colab": {
          "base_uri": "https://localhost:8080/"
        },
        "id": "Zn40CtddifAo",
        "outputId": "9a9a04fc-a336-4463-f59e-7b3a56f0124f"
      },
      "outputs": [
        {
          "data": {
            "text/plain": [
              "['2011.00958-3.pdf',\n",
              " 'HRV csvs',\n",
              " 'LICENSE',\n",
              " 'README.md',\n",
              " 'players_info.csv',\n",
              " 'matches']"
            ]
          },
          "execution_count": 6,
          "metadata": {},
          "output_type": "execute_result"
        }
      ],
      "source": [
        "# take a look at the files. Should be\n",
        "#\n",
        "# [LICENSE, 2011.00958-3.pdf,  matches, players_info.csv  README.md]\n",
        "os.listdir()"
      ]
    },
    {
      "cell_type": "code",
      "execution_count": null,
      "metadata": {
        "id": "zHvsf2SAi1-c"
      },
      "outputs": [],
      "source": [
        "os.chdir('matches')"
      ]
    },
    {
      "cell_type": "code",
      "execution_count": null,
      "metadata": {
        "id": "F9qtNNUchXaa"
      },
      "outputs": [],
      "source": [
        "\"\"\"\n",
        "Necessary functions to derive data needed for analysis.\n",
        "HRV function is included but we did not use this.\n",
        "\"\"\"\n",
        "\n",
        "def get_gsr(matches : dict, truncate : bool) -> dict:\n",
        "    gsr_by_match_dict = defaultdict(dict)\n",
        "    for match, data in matches.items():\n",
        "        player_df = pd.DataFrame(columns=['player','gsr'])\n",
        "        gsr_lens = []\n",
        "        for player, player_data in data['players'].items():\n",
        "            if 'gsr' not in list(player_data.keys()):\n",
        "                print(f'{match} {player} hr missing')\n",
        "                continue\n",
        "            gsr_lens.append(len(player_data['gsr']))\n",
        "        shortest = min(gsr_lens)\n",
        "        for player, player_data in data['players'].items():\n",
        "            if 'gsr' not in list(player_data.keys()):\n",
        "                #print(f'match {match} {player} hr missing')\n",
        "                continue\n",
        "            # truncate to the shortest and collect\n",
        "            if truncate:\n",
        "                player_gsr = player_data['gsr'].iloc[:shortest]\n",
        "            else:\n",
        "                player_gsr = player_data['gsr']\n",
        "            gsr_by_match_dict[match][player] = player_gsr\n",
        "    return gsr_by_match_dict\n",
        "\n",
        "def get_heart_rates(matches : dict, truncate : bool = True) -> dict:\n",
        "    heart_rates_by_match_dict = {}\n",
        "    for match_id, data in matches.items():\n",
        "        player_df = pd.DataFrame(columns=['player','heart_rate'])\n",
        "        hr_lens = []\n",
        "        for player, player_data in data['players'].items():\n",
        "            if 'heart_rate' not in list(player_data.keys()):\n",
        "                print(f'{match_id} {player} hr missing')\n",
        "                continue\n",
        "            elif np.sum(player_data['heart_rate']['heart_rate'].values) <= 0.0:\n",
        "                #print(match_id, player)\n",
        "                print(f'{match_id} {player} hr is 0 values')\n",
        "                continue\n",
        "            hr_lens.append(len(player_data['heart_rate']))\n",
        "        shortest = min(hr_lens)\n",
        "        for player, player_data in data['players'].items():\n",
        "            if 'heart_rate' not in list(player_data.keys()):\n",
        "                #print(f'match {match} {player} hr missing')\n",
        "                continue\n",
        "            # truncate to the shortest and collect\n",
        "            if truncate:\n",
        "                player_name = np.array([player]*len(player_data['heart_rate']))[:shortest]\n",
        "                player_hr = player_data['heart_rate']['heart_rate'].values[:shortest]\n",
        "            else:\n",
        "                player_name = np.array([player]*len(player_data['heart_rate']))\n",
        "                player_hr = player_data['heart_rate']['heart_rate'].values\n",
        "            new_df = pd.DataFrame({'player' : player_name, 'heart_rate' : player_hr})\n",
        "            player_df = pd.concat([player_df,new_df])\n",
        "        heart_rates_by_match_dict[match_id] = player_df\n",
        "    return heart_rates_by_match_dict\n",
        "\n",
        "\n",
        "def get_windowed_HRV(data : pd.DataFrame) -> pd.DataFrame:\n",
        "    \"\"\"\n",
        "    Takes a heart-rate dataframe (of form [time, bpm]) from the player data generates\n",
        "    windowed HRV values.\n",
        "    \"\"\"\n",
        "    # converting from BPM to BPS and get the resciprocal for RR\n",
        "    # time is recorded at hz\n",
        "    # get nn_intervals in seconds.\n",
        "    NNI_intervals = 60/data['heart_rate']\n",
        "    # Generate 15 second windows\n",
        "    n_windows = len(data)//15\n",
        "    start = 0\n",
        "    end = 15\n",
        "    windowed_peaks = []\n",
        "    for _ in range(n_windows):\n",
        "        windowed_peaks.append(NNI_intervals[start:end])\n",
        "        start = end\n",
        "        end += 15\n",
        "    windowed_HRV = []\n",
        "    for w in windowed_peaks:\n",
        "        windowed_HRV.append(pyhrv.time_domain.rmssd(nni=w)[0])\n",
        "    df = pd.DataFrame(columns=['window','RMSSD'])\n",
        "    df['window'] = list(range(n_windows))\n",
        "    df['RMSSD'] = np.round(windowed_HRV,3)\n",
        "    return df\n",
        "\n",
        "def get_physio_data(matches : dict) -> pd.DataFrame:\n",
        "    \"\"\"\n",
        "    Given a dictionary of matches, returns a dataframe of eeg data, HRV and GSR\n",
        "    \"\"\"\n",
        "    players = ['player_0', 'player_1', 'player_2', 'player_3', 'player_4']\n",
        "\n",
        "    heart_rates = get_heart_rates(matches,truncate=False)\n",
        "    gsrs_by_match_dict = get_gsr(matches,truncate=False)\n",
        "    hrvs_by_match_dict = defaultdict(dict)\n",
        "    for m, data in heart_rates.items():\n",
        "        for p in players:\n",
        "            if len(data[data['player'] == p]) == 0:\n",
        "                continue\n",
        "            HRV = get_windowed_HRV(data[data['player'] == p])\n",
        "            hrvs_by_match_dict[m][p] = HRV\n",
        "    data_dict = defaultdict(lambda: defaultdict(dict))\n",
        "    for match_id, match_data in matches.items():\n",
        "        for d_type, match_data_values in match_data.items():\n",
        "            if d_type == 'meta_info':\n",
        "                data_dict[match_id]['duration']['time'] =  match_data[d_type]['match_duration']\n",
        "            if d_type == 'replay':\n",
        "                for replay_data_key, replay_values in match_data_values.items():\n",
        "                    if 'player' in replay_data_key and matches[match_id]['replay'][replay_data_key]['teamName'] == 'participants':\n",
        "                        data_dict[match_id][replay_data_key]['death_times'] = replay_values['deathTimes']\n",
        "                        data_dict[match_id][replay_data_key]['kill_times'] = replay_values['killTimes']\n",
        "                        data_dict[match_id][replay_data_key]['assist_times'] = replay_values['assistTimes']\n",
        "            if d_type == 'players':\n",
        "                for player, player_data_values in match_data_values.items():\n",
        "                    #print(player, player_data_values.keys())\n",
        "                    if 'eeg_band_power' in player_data_values.keys():\n",
        "                        data_dict[match_id][player]['eeg_power'] = player_data_values['eeg_band_power']\n",
        "                        data_dict[match_id][player]['eeg_metrics'] = player_data_values['eeg_metrics']\n",
        "                        data_dict[match_id][player]['hrv'] = hrvs_by_match_dict[match_id][player]\n",
        "                        data_dict[match_id][player]['gsr'] = gsrs_by_match_dict[match_id][player]\n",
        "                        data_dict[match_id][player]['player_report'] = player_data_values['player_report']\n",
        "                        data_dict[match_id][player]['heart_rate'] = heart_rates[match_id][heart_rates[match_id]['player'] == player]\n",
        "                    elif player in data_dict[match_id]:\n",
        "                        print(f'eeg missing for player {player} in match {match_id}')\n",
        "                        del data_dict[match_id][player]\n",
        "    return(data_dict)"
      ]
    },
    {
      "cell_type": "code",
      "execution_count": null,
      "metadata": {
        "id": "vPgbV8-mjYa2"
      },
      "outputs": [],
      "source": [
        "# Loads a pickle of the loaded match CSVS and reading the CSVs takes some time\n",
        "import pickle\n",
        "with open('loaded_matches.pickle', 'rb') as file:\n",
        "\n",
        "    # Call load method to deserialze\n",
        "    matches = pickle.load(file)\n",
        "\n",
        "    #print(matches)"
      ]
    },
    {
      "cell_type": "markdown",
      "metadata": {
        "id": "vNxaItMCgCI5"
      },
      "source": [
        "# Initial idea : Bots vs Real players (running this section can be safely skipped)"
      ]
    },
    {
      "cell_type": "markdown",
      "metadata": {},
      "source": [
        "This section corressponds to the our intial idea of designating bots as the low workload condition matches and real as the high workload condition matches.\n"
      ]
    },
    {
      "cell_type": "code",
      "execution_count": null,
      "metadata": {
        "id": "rARV4i0QQRlT"
      },
      "outputs": [],
      "source": [
        "# designate bot matches as low workload\n",
        "lw_matches = ['match_0','match_12','match_15','match_17','match_19','match_2','match_21','match_4','match_6','match_9']"
      ]
    },
    {
      "cell_type": "code",
      "execution_count": null,
      "metadata": {
        "id": "-nDlMlryh_3C"
      },
      "outputs": [],
      "source": [
        "hw_matches = {}\n",
        "for m in matches:\n",
        "  if m not in lw_matches:\n",
        "    hw_matches[m] = matches[m]"
      ]
    },
    {
      "cell_type": "code",
      "execution_count": null,
      "metadata": {
        "id": "KV8V6CrKgj0G"
      },
      "outputs": [],
      "source": [
        "lw_match_data = {i : matches[i] for i in lw_matches}"
      ]
    },
    {
      "cell_type": "code",
      "execution_count": null,
      "metadata": {
        "id": "vbJDx53c8HW9"
      },
      "outputs": [],
      "source": [
        "hw_match_data = {i : matches[i] for i in hw_matches}"
      ]
    },
    {
      "cell_type": "code",
      "execution_count": null,
      "metadata": {
        "id": "5i9833ra9lTY"
      },
      "outputs": [],
      "source": [
        "# match count\n",
        "print(f'low work load : {len(lw_matches)}')\n",
        "print(f'high work load : {len(hw_matches)}')\n"
      ]
    },
    {
      "cell_type": "code",
      "execution_count": null,
      "metadata": {
        "id": "_0fKw42qk2o-"
      },
      "outputs": [],
      "source": [
        "lw_phys_data = get_physio_data(lw_match_data)\n",
        "hw_phys_data = get_physio_data(hw_match_data)"
      ]
    },
    {
      "cell_type": "code",
      "execution_count": null,
      "metadata": {
        "id": "ltAbnI54lAor"
      },
      "outputs": [],
      "source": [
        "vars = ['eeg_power', 'gsr', 'heart_rate']\n",
        "lw_data_shape_info = defaultdict(lambda: defaultdict(dict))\n",
        "for match_id in lw_phys_data:\n",
        "    for player in lw_phys_data[match_id]:\n",
        "        if player != 'duration':\n",
        "          for signal in lw_phys_data[match_id][player]:\n",
        "            if signal in vars:\n",
        "              lw_data_shape_info[match_id][player][signal] = lw_phys_data[match_id][player][signal].shape\n"
      ]
    },
    {
      "cell_type": "code",
      "execution_count": null,
      "metadata": {
        "id": "zGFeu5PpwvB3"
      },
      "outputs": [],
      "source": [
        "# Transform the dictionary to a list of tuples suitable for DataFrame conversion\n",
        "data_tuples = []\n",
        "for match_id, players in lw_data_shape_info.items():\n",
        "    for player, signals in players.items():\n",
        "        for signal, shape in signals.items():\n",
        "            data_tuples.append((match_id, player, signal, shape))\n",
        "\n",
        "# Create a DataFrame with MultiIndex from the tuples\n",
        "lw_df = pd.DataFrame(data_tuples, columns=['Match_ID', 'Player', 'Signal', 'Shape'])\n"
      ]
    },
    {
      "cell_type": "code",
      "execution_count": null,
      "metadata": {
        "id": "X3QadbH-8hAo"
      },
      "outputs": [],
      "source": [
        "vars = ['eeg_power', 'gsr', 'heart_rate']\n",
        "hw_data_shape_info = defaultdict(lambda: defaultdict(dict))\n",
        "for match_id in hw_phys_data:\n",
        "    for player in hw_phys_data[match_id]:\n",
        "        if player != 'duration':\n",
        "          for signal in hw_phys_data[match_id][player]:\n",
        "            if signal in vars:\n",
        "              hw_data_shape_info[match_id][player][signal] = hw_phys_data[match_id][player][signal].shape\n",
        "\n",
        "# Transform the dictionary to a list of tuples suitable for DataFrame conversion\n",
        "data_tuples = []\n",
        "for match_id, players in hw_data_shape_info.items():\n",
        "    for player, signals in players.items():\n",
        "        for signal, shape in signals.items():\n",
        "            data_tuples.append((match_id, player, signal, shape))\n",
        "\n",
        "# Create a DataFrame with MultiIndex from the tuples\n",
        "hw_df = pd.DataFrame(data_tuples, columns=['Match_ID', 'Player', 'Signal', 'Shape'])"
      ]
    },
    {
      "cell_type": "code",
      "execution_count": null,
      "metadata": {
        "id": "WZIM-cbP9Hif"
      },
      "outputs": [],
      "source": [
        "hw_df.tail(7)"
      ]
    },
    {
      "cell_type": "code",
      "execution_count": null,
      "metadata": {
        "id": "E8Iahqmd6wlm"
      },
      "outputs": [],
      "source": [
        "# check differences in GSR levels between conditions\n",
        "hw_pro_mean_gsrs = []\n",
        "hw_amateur_mean_gsrs = []\n",
        "for match_id in hw_matches:\n",
        "  #print(hw_match_data[match_id].keys())\n",
        "  for player in hw_match_data[match_id]['players']:\n",
        "    if hw_match_data[match_id]['meta_info']['team'] == 'pros':\n",
        "      hw_pro_mean_gsrs.append(np.mean(hw_match_data[match_id]['players'][player]['gsr']['gsr'].values))\n",
        "    else:\n",
        "      hw_amateur_mean_gsrs.append(np.mean(hw_match_data[match_id]['players'][player]['gsr']['gsr'].values))\n",
        "print(np.mean(hw_pro_mean_gsrs), np.std(hw_pro_mean_gsrs))\n",
        "print(np.mean(hw_amateur_mean_gsrs), np.std(hw_amateur_mean_gsrs))"
      ]
    },
    {
      "cell_type": "code",
      "execution_count": null,
      "metadata": {
        "id": "wWZBbFPmCzCf"
      },
      "outputs": [],
      "source": [
        "import matplotlib.pyplot as plt\n",
        "plt.boxplot([hw_pro_mean_gsrs,hw_amateur_mean_gsrs])"
      ]
    },
    {
      "cell_type": "code",
      "execution_count": null,
      "metadata": {
        "id": "D1SZKQtt_Dpm"
      },
      "outputs": [],
      "source": [
        "# check differences in GSR levels between conditions\n",
        "lw_pro_mean_gsrs = []\n",
        "lw_amateur_mean_gsrs = []\n",
        "for match_id in lw_matches:\n",
        "  #print(hw_match_data[match_id].keys())\n",
        "  for player in lw_match_data[match_id]['players']:\n",
        "    #print(lw_match_data[match_id]['meta_info']['team'])\n",
        "    if lw_match_data[match_id]['meta_info']['team'] == 'pros':\n",
        "      lw_pro_mean_gsrs.append(np.mean(lw_match_data[match_id]['players'][player]['gsr']['gsr'].values))\n",
        "    else:\n",
        "      lw_amateur_mean_gsrs.append(np.mean(lw_match_data[match_id]['players'][player]['gsr']['gsr'].values))\n",
        "\n",
        "print(np.mean(lw_pro_mean_gsrs), np.std(lw_pro_mean_gsrs))\n",
        "print(np.mean(lw_amateur_mean_gsrs), np.std(lw_amateur_mean_gsrs))"
      ]
    },
    {
      "cell_type": "markdown",
      "metadata": {
        "id": "dAP-kdfA6cCM"
      },
      "source": [
        "## Windowing (relevant sections of code)"
      ]
    },
    {
      "cell_type": "markdown",
      "metadata": {},
      "source": [
        "This section corressponds to the generation of the datat was used : designating a time window around kills, deaths, and assists as the highworkload condition"
      ]
    },
    {
      "cell_type": "markdown",
      "metadata": {
        "id": "637QtgGEa3Mn"
      },
      "source": [
        "# All physio signals : windowing around significant events"
      ]
    },
    {
      "cell_type": "code",
      "execution_count": null,
      "metadata": {
        "colab": {
          "base_uri": "https://localhost:8080/"
        },
        "id": "EsalIkP7a77K",
        "outputId": "a42d3a45-e56c-4fc9-b428-522293098fc0"
      },
      "outputs": [
        {
          "name": "stdout",
          "output_type": "stream",
          "text": [
            "match_0 player_2 hr missing\n",
            "match_1 player_2 hr missing\n",
            "match_14 player_3 hr missing\n",
            "match_15 player_0 hr missing\n",
            "match_15 player_3 hr missing\n",
            "match_16 player_3 hr missing\n",
            "match_17 player_3 hr missing\n",
            "match_18 player_4 hr is 0 values\n",
            "match_19 player_4 hr missing\n",
            "match_2 player_2 hr missing\n",
            "match_20 player_4 hr is 0 values\n",
            "match_21 player_4 hr is 0 values\n",
            "match_3 player_0 hr missing\n",
            "match_3 player_2 hr missing\n",
            "match_7 player_2 hr missing\n",
            "match_8 player_2 hr missing\n",
            "eeg missing for player player_0 in match match_0\n",
            "eeg missing for player player_2 in match match_0\n",
            "eeg missing for player player_3 in match match_0\n",
            "eeg missing for player player_4 in match match_0\n",
            "eeg missing for player player_0 in match match_1\n",
            "eeg missing for player player_2 in match match_1\n",
            "eeg missing for player player_3 in match match_1\n",
            "eeg missing for player player_4 in match match_1\n",
            "eeg missing for player player_0 in match match_10\n",
            "eeg missing for player player_1 in match match_10\n",
            "eeg missing for player player_2 in match match_10\n",
            "eeg missing for player player_0 in match match_11\n",
            "eeg missing for player player_0 in match match_12\n",
            "eeg missing for player player_0 in match match_13\n",
            "eeg missing for player player_0 in match match_14\n",
            "eeg missing for player player_3 in match match_14\n",
            "eeg missing for player player_0 in match match_15\n",
            "eeg missing for player player_1 in match match_15\n",
            "eeg missing for player player_2 in match match_15\n",
            "eeg missing for player player_3 in match match_15\n",
            "eeg missing for player player_4 in match match_15\n",
            "eeg missing for player player_0 in match match_16\n",
            "eeg missing for player player_1 in match match_16\n",
            "eeg missing for player player_2 in match match_16\n",
            "eeg missing for player player_3 in match match_16\n",
            "eeg missing for player player_4 in match match_16\n",
            "eeg missing for player player_0 in match match_17\n",
            "eeg missing for player player_1 in match match_17\n",
            "eeg missing for player player_2 in match match_17\n",
            "eeg missing for player player_3 in match match_17\n",
            "eeg missing for player player_4 in match match_17\n",
            "eeg missing for player player_0 in match match_18\n",
            "eeg missing for player player_3 in match match_18\n",
            "eeg missing for player player_4 in match match_18\n",
            "eeg missing for player player_0 in match match_19\n",
            "eeg missing for player player_3 in match match_19\n",
            "eeg missing for player player_4 in match match_19\n",
            "eeg missing for player player_0 in match match_2\n",
            "eeg missing for player player_2 in match match_2\n",
            "eeg missing for player player_3 in match match_2\n",
            "eeg missing for player player_4 in match match_2\n",
            "eeg missing for player player_0 in match match_20\n",
            "eeg missing for player player_3 in match match_20\n",
            "eeg missing for player player_4 in match match_20\n",
            "eeg missing for player player_0 in match match_21\n",
            "eeg missing for player player_4 in match match_21\n",
            "eeg missing for player player_0 in match match_3\n",
            "eeg missing for player player_2 in match match_3\n",
            "eeg missing for player player_3 in match match_3\n",
            "eeg missing for player player_4 in match match_3\n",
            "eeg missing for player player_0 in match match_4\n",
            "eeg missing for player player_1 in match match_4\n",
            "eeg missing for player player_2 in match match_4\n",
            "eeg missing for player player_3 in match match_4\n",
            "eeg missing for player player_4 in match match_4\n",
            "eeg missing for player player_0 in match match_5\n",
            "eeg missing for player player_1 in match match_5\n",
            "eeg missing for player player_2 in match match_5\n",
            "eeg missing for player player_3 in match match_5\n",
            "eeg missing for player player_4 in match match_5\n",
            "eeg missing for player player_0 in match match_6\n",
            "eeg missing for player player_1 in match match_6\n",
            "eeg missing for player player_2 in match match_6\n",
            "eeg missing for player player_3 in match match_6\n",
            "eeg missing for player player_4 in match match_6\n",
            "eeg missing for player player_0 in match match_7\n",
            "eeg missing for player player_1 in match match_7\n",
            "eeg missing for player player_2 in match match_7\n",
            "eeg missing for player player_3 in match match_7\n",
            "eeg missing for player player_4 in match match_7\n",
            "eeg missing for player player_0 in match match_8\n",
            "eeg missing for player player_1 in match match_8\n",
            "eeg missing for player player_2 in match match_8\n",
            "eeg missing for player player_0 in match match_9\n",
            "eeg missing for player player_1 in match match_9\n",
            "eeg missing for player player_2 in match match_9\n"
          ]
        }
      ],
      "source": [
        "all_signals = get_physio_data(matches)"
      ]
    },
    {
      "cell_type": "code",
      "execution_count": null,
      "metadata": {
        "colab": {
          "base_uri": "https://localhost:8080/"
        },
        "id": "aa62BCNRMcdY",
        "outputId": "0644eea6-3f57-4dea-e6d7-184c4267d566"
      },
      "outputs": [
        {
          "name": "stdout",
          "output_type": "stream",
          "text": [
            "match_0 ['player_1']\n",
            "match_1 ['player_1']\n",
            "match_10 ['player_3', 'player_4']\n",
            "match_11 ['player_1', 'player_2', 'player_3', 'player_4']\n",
            "match_12 ['player_1', 'player_2', 'player_3', 'player_4']\n",
            "match_13 ['player_1', 'player_2', 'player_3', 'player_4']\n",
            "match_14 ['player_1', 'player_2', 'player_4']\n",
            "match_15 []\n",
            "match_16 []\n",
            "match_17 []\n",
            "match_18 ['player_1', 'player_2']\n",
            "match_19 ['player_1', 'player_2']\n",
            "match_2 ['player_1']\n",
            "match_20 ['player_1', 'player_2']\n",
            "match_21 ['player_1', 'player_2', 'player_3']\n",
            "match_3 ['player_1']\n",
            "match_4 []\n",
            "match_5 []\n",
            "match_6 []\n",
            "match_7 []\n",
            "match_8 ['player_3', 'player_4']\n",
            "match_9 ['player_3', 'player_4']\n"
          ]
        }
      ],
      "source": [
        "# check which players in which matches are available for analysis\n",
        "for match_id in all_signals.keys():\n",
        "  if len(list(all_signals[match_id].keys())) == 0:\n",
        "    continue\n",
        "  print(match_id, list(all_signals[match_id].keys())[1:])\n"
      ]
    },
    {
      "cell_type": "code",
      "execution_count": null,
      "metadata": {
        "id": "8k-W_3RLoR7T"
      },
      "outputs": [],
      "source": [
        "import seaborn as sns\n",
        "from PIL import Image\n",
        "pd.options.mode.chained_assignment = None\n",
        "np.random.seed(42)\n",
        "\n",
        "\n",
        "def get_windows(player : dict,  time_delta : int = 4, under_sample : bool = True) -> dict:\n",
        "  \"\"\"\n",
        "  args:\n",
        "    player      : A dictionary containing information about a player, including physiological signals and event times\n",
        "    mois        : list of lists (kills, deaths, assists)\n",
        "    time_delta  : Window to consider around moment\n",
        "                  set time window detault as 4 based https://link.springer.com/article/10.1007/s41060-024-00529-6\n",
        "\n",
        "  Given a physiological signal from a player (signal) and a dictionary of moments of interest (mois)\n",
        "  Generates two pieces of information:\n",
        "\n",
        "  1. From a physiological signal for a given player (e.g., GSR), extracts windows of length moment of interest +- time_delta\n",
        "  where moments of intetersfet (moi) are kills, deaths, and assits of a given player. These are high-workload time segments.\n",
        "  2. Takes the remaining sections of the physiological sections as the negative class.\n",
        "     Optionally undersample the negative class to keep the training data balanced\n",
        "  \"\"\"\n",
        "  import itertools\n",
        "  from collections import defaultdict\n",
        "  # The signals must be cut to be the same size.\n",
        "  # All signals should be as longa s EEG signal. If EEG is longer, should be truncated to smallest signal availabe\n",
        "  eeg_length = player['eeg_power'].shape[0]\n",
        "  hr_length = player['heart_rate'].shape[0]\n",
        "  gsr_length = player['gsr'].shape[0]\n",
        "  smallest_length = np.min(np.array([eeg_length, hr_length,gsr_length]))\n",
        "\n",
        "  eeg_truncated = player['eeg_power'].iloc[:smallest_length]\n",
        "  gsr_truncated = player['gsr'].iloc[0:smallest_length]\n",
        "  heart_rate_truncated = player['heart_rate'].iloc[0:smallest_length]\n",
        "\n",
        "  # Subtract the mean value of signal from each player. The reasoning here is that each\n",
        "  # player may have a different baseline level of activation for each of these signals\n",
        "\n",
        "  eeg_mean = np.mean(eeg_truncated.iloc[:,1:], axis = 0)\n",
        "  gsr_mean = np.mean(gsr_truncated['gsr'])\n",
        "  heart_rate_mean = np.mean(heart_rate_truncated['heart_rate'])\n",
        "\n",
        "  # subtract the means\n",
        "  eeg_cols = eeg_truncated.columns[1:]\n",
        "  eeg_truncated[list(eeg_cols)] = eeg_truncated[list(eeg_cols)] - eeg_mean\n",
        "  heart_rate_truncated['heart_rate'] = heart_rate_truncated['heart_rate'] - heart_rate_mean\n",
        "  gsr_truncated['gsr'] = gsr_truncated['gsr'] - gsr_mean\n",
        "\n",
        "\n",
        "  max_time = eeg_truncated['time'].iloc[-1]\n",
        "  # make sure that the moments of interest are within the bounds for generating a window\n",
        "  d_times_array = [v for v in player['death_times'] if ((v < max_time - time_delta) and (v > time_delta))]\n",
        "  k_times_array =  [v for v in player['kill_times'] if ((v < max_time - time_delta) and (v > time_delta))]\n",
        "  a_times_array =  [v for v in player['assist_times'] if ((v < max_time - time_delta) and (v > time_delta))]\n",
        "  mois = [d_times_array,k_times_array,a_times_array]\n",
        "\n",
        "  # flatten the list and round the time to the nearest integer for indexing time\n",
        "  events = np.int16(np.round(list(itertools.chain(*mois))))\n",
        "\n",
        "  positive_class = {'eeg' : None, 'gsr' : None, 'hr' : None}\n",
        "  negative_class = {'eeg' : None, 'gsr' : None, 'hr' : None}\n",
        "\n",
        "  pos_gsr_windows = []\n",
        "  pos_eeg_windows = []\n",
        "  pos_heart_rate_windows = []\n",
        "  windows = []\n",
        "  # sample windows around events (positive class)\n",
        "  for event_time in events:\n",
        "    # make sure the events have sufficient distance around them to be windowed\n",
        "    if (event_time < (eeg_length - time_delta)) and (event_time > (time_delta)):\n",
        "      t_plus_delta = event_time + time_delta\n",
        "      t_minus_delta = event_time - time_delta\n",
        "      window = [t_minus_delta, t_plus_delta]\n",
        "      gsr_feature = gsr_truncated.iloc[window[0]:window[1]].drop(columns=['time'])\n",
        "      eeg_feature = eeg_truncated.iloc[window[0]:window[1]].drop(columns=['time'])\n",
        "      heart_rate_feature = heart_rate_truncated.iloc[window[0]:window[1]]\n",
        "      pos_gsr_windows.append(gsr_feature)\n",
        "      pos_eeg_windows.append(eeg_feature)\n",
        "      pos_heart_rate_windows.append(heart_rate_feature)\n",
        "      windows.append(window)\n",
        "\n",
        "  positive_class['eeg'] = pos_eeg_windows\n",
        "  positive_class['gsr'] = pos_gsr_windows\n",
        "  positive_class['hr']  = pos_heart_rate_windows\n",
        "  indexes = np.array(np.arange(eeg_length))\n",
        "  for window in windows:\n",
        "    mask = np.arange(window[0],window[1])\n",
        "    np.put(indexes,mask,-1)\n",
        "\n",
        "  negative_samples = []\n",
        "  if under_sample:\n",
        "    while len(negative_samples) < len(pos_eeg_windows):\n",
        "      # get a random integer starting away from the start and end to avoid sampling windows outside of the indices\n",
        "      random_index = np.random.randint(time_delta,eeg_length - time_delta + 1)\n",
        "      random_window = np.arange(random_index - time_delta, random_index + time_delta)\n",
        "      random_window = indexes[random_window]\n",
        "      # keep sampling until arrays without positive samples are generated\n",
        "      if -1 not in random_window:\n",
        "        negative_samples.append(random_window)\n",
        "\n",
        "  neg_gsr_windows = []\n",
        "  neg_eeg_windows = []\n",
        "  neg_heart_rate_windows = []\n",
        "  try:\n",
        "    for n_window in negative_samples:\n",
        "      gsr_feature = gsr_truncated.drop(columns=['time'])\n",
        "      eeg_feature = eeg_truncated.drop(columns=['time'])\n",
        "      heart_rate_feature = heart_rate_truncated\n",
        "      neg_gsr_windows.append(gsr_feature.iloc[n_window])\n",
        "      neg_eeg_windows.append(eeg_feature.iloc[n_window])\n",
        "      neg_heart_rate_windows.append(heart_rate_feature.iloc[n_window])\n",
        "  except IndexError:\n",
        "    print(f\"Index for negative sample {n_window} out of bounds in one of :  \\ngsr : {player['heart_rate'].shape} \\nheart rate : {player['heart_rate'].shape}\")\n",
        "\n",
        "  negative_class['eeg'] = neg_eeg_windows\n",
        "  negative_class['gsr'] = neg_gsr_windows\n",
        "  negative_class['hr']  = neg_heart_rate_windows\n",
        "  return (positive_class, negative_class)\n",
        "\n",
        "def eeg_to_image(data: list, dir_path: str, _class: str, eeg_combined_array, label: str) -> None:\n",
        "    \"\"\"\n",
        "    Given a list of EEG frequency-time dataframes, generates a heat map image of each dataframe. And standardizes the data.\n",
        "    \"\"\"\n",
        "    #Getting metrics for normalization\n",
        "    mean = eeg_combined_array.mean(axis=(0,1))\n",
        "    std = eeg_combined_array.std(axis=(0,1))\n",
        "    min = eeg_combined_array.min(axis=(0,1))\n",
        "    max = eeg_combined_array.max(axis=(0,1))\n",
        "    median = np.median(eeg_combined_array, axis=(0,1))\n",
        "    quantile25 = np.quantile(eeg_combined_array, 0.25, axis=(0,1))\n",
        "    quantile75 = np.quantile(eeg_combined_array, 0.75, axis=(0,1))\n",
        "    iqr = quantile75 - quantile25\n",
        "\n",
        "    # Define the desired frequency order\n",
        "    frequency_order = ['theta', 'alpha', 'betaL', 'betaH', 'gamma']\n",
        "    \n",
        "    for i, player in enumerate(data):\n",
        "        for j, event in enumerate(player):\n",
        "            columns = event.columns\n",
        "\n",
        "            # Create a sorted list of columns based on the frequency_order\n",
        "            sorted_columns = [col for freq in frequency_order for col in columns if freq in col]\n",
        "\n",
        "            # Reorder the dataframe columns using the sorted list so that the data is sorted by frequency band (alpha to Gamma)\n",
        "            event = event[sorted_columns]\n",
        "\n",
        "            np_array = event.to_numpy()\n",
        "\n",
        "            #Robust scaler\n",
        "            np_array_robust = (np_array - median)/iqr\n",
        "            np_array_robust_T = np_array_robust.T\n",
        "\n",
        "            im = Image.fromarray(np_array_robust_T)\n",
        "            im = im.convert(\"L\")\n",
        "            im.save(f'{dir_path}/{_class}/img_match{i}_event_{j}.png',\"PNG\")\n",
        "\n"
      ]
    },
    {
      "cell_type": "markdown",
      "metadata": {
        "id": "R4VbtbQaFUS2"
      },
      "source": []
    },
    {
      "cell_type": "code",
      "execution_count": null,
      "metadata": {
        "id": "2VySaLQ-TXlw"
      },
      "outputs": [],
      "source": [
        "# Generate positive and negative classes\n",
        "# Ignore the out of bounds warning printed\n",
        "\n",
        "positive_class = []\n",
        "negative_class = []\n",
        "for match_id in all_signals:\n",
        "  for player in all_signals[match_id]:\n",
        "    if 'eeg_power' in all_signals[match_id][player].keys():\n",
        "      train_data = get_windows(all_signals[match_id][player],time_delta = 4,under_sample = True)\n",
        "      if len(train_data[0]['eeg']) == 0:\n",
        "        continue\n",
        "      positive_class.append(train_data[0])\n",
        "      negative_class.append(train_data[1])"
      ]
    },
    {
      "cell_type": "code",
      "execution_count": null,
      "metadata": {
        "colab": {
          "base_uri": "https://localhost:8080/"
        },
        "id": "PflFXBuaIVYi",
        "outputId": "87d2c376-733b-4a54-871f-8095349d71f3"
      },
      "outputs": [
        {
          "name": "stdout",
          "output_type": "stream",
          "text": [
            "Index for negative sample [2198 2199 2200 2201 2202 2203 2204 2205] out of bounds in one of :  \n",
            "gsr : (2160, 2) \n",
            "heart rate : (2160, 2)\n"
          ]
        }
      ],
      "source": [
        "# Testing to make sure everything is the same even if you run it seperately multiple times\n",
        "positive_class_test = []\n",
        "negative_class_test = []\n",
        "for match_id in all_signals:\n",
        "  for player in all_signals[match_id]:\n",
        "    if 'eeg_power' in all_signals[match_id][player].keys():\n",
        "      train_data = get_windows(all_signals[match_id][player],time_delta = 4,under_sample = True)\n",
        "      if len(train_data[0]['eeg']) == 0:\n",
        "        continue\n",
        "      positive_class_test.append(train_data[0])\n",
        "      negative_class_test.append(train_data[1])\n",
        "\n",
        "# Prints fout if something is off\n",
        "for i, match_player in enumerate(positive_class_test):\n",
        "  for sig in ['eeg','gsr','hr']:\n",
        "    for j, ex in enumerate(match_player[sig]):\n",
        "      if sig == 'hr':\n",
        "        if not np.allclose(ex['heart_rate'].values,positive_class[i][sig][j]['heart_rate'].values):\n",
        "          print('fout!')\n",
        "      else:\n",
        "        if not np.allclose(ex.to_numpy(),positive_class[i][sig][j].to_numpy()):\n",
        "          print('fout!')\n"
      ]
    },
    {
      "cell_type": "code",
      "execution_count": null,
      "metadata": {
        "colab": {
          "base_uri": "https://localhost:8080/"
        },
        "id": "Ka0LXZ439-nw",
        "outputId": "fbcc639f-2fa0-4da1-b070-9027b798f274"
      },
      "outputs": [
        {
          "data": {
            "text/plain": [
              "{'eeg': 637, 'gsr': 637, 'hr': 637}"
            ]
          },
          "execution_count": 17,
          "metadata": {},
          "output_type": "execute_result"
        }
      ],
      "source": [
        "# check the number of positive samples generated\n",
        "signals = ['eeg', 'gsr', 'hr']\n",
        "pos_total = {'eeg' : 0, 'gsr' : 0, 'hr' : 0}\n",
        "for match_player in positive_class:\n",
        "  pos_total['eeg'] += len(match_player['eeg'])\n",
        "  pos_total['gsr'] += len(match_player['gsr'])\n",
        "  pos_total['hr'] += len(match_player['hr'])\n",
        "pos_total"
      ]
    },
    {
      "cell_type": "code",
      "execution_count": null,
      "metadata": {
        "colab": {
          "base_uri": "https://localhost:8080/"
        },
        "id": "iGVxkAK4-PVk",
        "outputId": "f1ad1726-b10c-44cf-b938-d81fa7e74d70"
      },
      "outputs": [
        {
          "data": {
            "text/plain": [
              "{'eeg': 637, 'gsr': 637, 'hr': 637}"
            ]
          },
          "execution_count": 18,
          "metadata": {},
          "output_type": "execute_result"
        }
      ],
      "source": [
        "# check the number of negative samples generated\n",
        "neg_total = {'eeg' : 0, 'gsr' : 0, 'hr' : 0}\n",
        "for match_player in negative_class:\n",
        "  #print(k, len(positive_class[0][k]))\n",
        "  neg_total['eeg'] += len(match_player['eeg'])\n",
        "  neg_total['gsr'] += len(match_player['gsr'])\n",
        "  neg_total['hr'] += len(match_player['hr'])\n",
        "neg_total"
      ]
    },
    {
      "cell_type": "code",
      "execution_count": null,
      "metadata": {
        "id": "nHvr3GHbAsQd"
      },
      "outputs": [],
      "source": [
        "# Generate a combined dataset with both classes\n",
        "eeg_combined = []\n",
        "for c in [positive_class,negative_class]:\n",
        "  for i in c:\n",
        "    for j in i['eeg']:\n",
        "      eeg_combined.append(j)\n",
        "eeg_combined_array = np.array(eeg_combined)"
      ]
    },
    {
      "cell_type": "markdown",
      "metadata": {
        "id": "D7lI1j_WFE-a"
      },
      "source": [
        "### Generate min, max, mean EEG band activation features (https://ieeexplore.ieee.org/stamp/stamp.jsp?tp=&arnumber=9278704)"
      ]
    },
    {
      "cell_type": "code",
      "execution_count": null,
      "metadata": {
        "id": "abNFeRpglqLv"
      },
      "outputs": [],
      "source": [
        "cols = list(eeg_combined[0].columns)"
      ]
    },
    {
      "cell_type": "code",
      "execution_count": null,
      "metadata": {
        "id": "R2XCHfTJt2gc"
      },
      "outputs": [],
      "source": [
        "# min-max scaling\n",
        "mean = eeg_combined_array.mean(axis=(0,1))\n",
        "std = eeg_combined_array.std(axis=(0,1))\n",
        "min = eeg_combined_array.min(axis=(0,1))\n",
        "max = eeg_combined_array.max(axis=(0,1))\n",
        "median = np.median(eeg_combined_array, axis=(0,1))\n",
        "quantile25 = np.quantile(eeg_combined_array, 0.25, axis=(0,1))\n",
        "quantile75 = np.quantile(eeg_combined_array, 0.75, axis=(0,1))\n",
        "iqr = quantile75 - quantile25\n",
        "\n",
        "bands = ['theta','alpha','betaL','betaH','gamma']\n",
        "group_bands = []\n",
        "for b in bands:\n",
        "  l = []\n",
        "  for c in cols:\n",
        "    if b in c:\n",
        "      l.append(c)\n",
        "  group_bands.append(l)\n",
        "\n",
        "positive_new_features = []\n",
        "for collection in positive_class:\n",
        "  for example in collection['eeg']:\n",
        "    ex_features = []\n",
        "    example = (example - median)/iqr\n",
        "    for band in group_bands:\n",
        "      band_i = example[band].values.flatten()\n",
        "      band_mean = np.mean(band_i)\n",
        "      band_max = np.max(band_i)\n",
        "      band_min = np.min(band_i)\n",
        "      ex_features.extend([band_mean,band_max,band_min])\n",
        "    positive_new_features.append(ex_features)\n",
        "positive_new_features = np.array(positive_new_features)\n",
        "\n",
        "negative_new_features = []\n",
        "for collection in negative_class:\n",
        "  for example in collection['eeg']:\n",
        "    ex_features = []\n",
        "    example = (example - median)/iqr\n",
        "    for band in group_bands:\n",
        "      band_i = example[band].values.flatten()\n",
        "      band_mean = np.mean(band_i)\n",
        "      band_max = np.max(band_i)\n",
        "      band_min = np.min(band_i)\n",
        "      ex_features.extend([band_mean,band_max,band_min])\n",
        "    negative_new_features.append(ex_features)\n",
        "negative_new_features = np.array(negative_new_features)\n",
        "\n",
        "\n",
        "np.savetxt(\"all_combined/positive_eeg.csv\", positive_new_features, delimiter=\",\")\n",
        "np.savetxt(\"all_combined/negative_eeg.csv\", negative_new_features, delimiter=\",\")"
      ]
    },
    {
      "cell_type": "code",
      "execution_count": null,
      "metadata": {
        "colab": {
          "base_uri": "https://localhost:8080/"
        },
        "id": "XS6b0zTWU9kj",
        "outputId": "11219e01-a203-4166-963e-104ea0f22a58"
      },
      "outputs": [
        {
          "name": "stdout",
          "output_type": "stream",
          "text": [
            "(637, 15) (637, 15)\n",
            "True\n",
            "True\n"
          ]
        }
      ],
      "source": [
        "# check the sizes. Should match pos_total and neg_total\n",
        "print(positive_new_features.shape, negative_new_features.shape)\n",
        "print(positive_new_features.shape[0] == pos_total['eeg'])\n",
        "print(negative_new_features.shape[0] == neg_total['eeg'])"
      ]
    },
    {
      "cell_type": "markdown",
      "metadata": {
        "id": "Q7RSbYPdcdJf"
      },
      "source": [
        "## Generate positive class files"
      ]
    },
    {
      "cell_type": "code",
      "execution_count": null,
      "metadata": {
        "colab": {
          "base_uri": "https://localhost:8080/"
        },
        "id": "78X1vF7tAD0M",
        "outputId": "de4e4b99-c1bd-4fb4-dcaf-41d1b6cc0f9d"
      },
      "outputs": [
        {
          "name": "stdout",
          "output_type": "stream",
          "text": [
            "n files in folder before: \n"
          ]
        },
        {
          "data": {
            "text/plain": [
              "0"
            ]
          },
          "execution_count": 24,
          "metadata": {},
          "output_type": "execute_result"
        }
      ],
      "source": [
        "# sanity checks for file generation\n",
        "print('n files in folder before: ')\n",
        "len(os.listdir('all_combined/eeg_images/positive_class'))"
      ]
    },
    {
      "cell_type": "code",
      "execution_count": null,
      "metadata": {
        "id": "MKEKfCVGAPAT"
      },
      "outputs": [],
      "source": [
        "X_eeg = []\n",
        "X_gsr = []\n",
        "X_hr = []\n",
        "# class is a list of dictionaries\n",
        "for sample in positive_class:\n",
        "  for signal in sample:\n",
        "    #print(signal, len(sample[signal]))\n",
        "    if signal == 'eeg':\n",
        "      X_eeg.append(sample[signal])\n",
        "    if signal == 'gsr':\n",
        "      X_gsr.append(sample[signal])\n",
        "    if signal == 'hr':\n",
        "      X_hr.append(sample[signal])\n",
        "\n",
        "path = 'all_combined/eeg_images'\n",
        "\n",
        "_class = 'positive_class'\n",
        "eeg_to_image(X_eeg,path,_class,eeg_combined_array,\"positive\")"
      ]
    },
    {
      "cell_type": "code",
      "execution_count": null,
      "metadata": {
        "colab": {
          "base_uri": "https://localhost:8080/"
        },
        "id": "YOWdk1QqUIl6",
        "outputId": "feccf76e-8991-4c70-fcf6-883d6542e35c"
      },
      "outputs": [
        {
          "name": "stdout",
          "output_type": "stream",
          "text": [
            "n files in folder after, should match pos_total for EEG: \n",
            "637\n"
          ]
        },
        {
          "data": {
            "text/plain": [
              "637"
            ]
          },
          "execution_count": 26,
          "metadata": {},
          "output_type": "execute_result"
        }
      ],
      "source": [
        "print('n files in folder after, should match pos_total for EEG: ')\n",
        "print(pos_total['eeg'])\n",
        "len(os.listdir('all_combined/eeg_images/positive_class'))"
      ]
    },
    {
      "cell_type": "code",
      "execution_count": null,
      "metadata": {
        "id": "bknUEym9MIfA"
      },
      "outputs": [],
      "source": [
        "import matplotlib.pyplot as plt\n",
        "import mne\n",
        "import numpy as np\n",
        "\n",
        "\n",
        "def plot_topomaps(df : pd.DataFrame, bands : list):\n",
        "    \"\"\"\n",
        "    Given a dataframe of shape (time steps x channels) generates a topological map of activation at each sensor at each time step.\n",
        "    args : \n",
        "        df      : A pandas DataFrame containing activation for t time steps (rows) in n channels (columns). Supposing 5 channels and 5 frequency bands,\n",
        "                  this df will have 25 columns where each column represents the activity for a given band at that channel (i.e., sensor)\n",
        "        bands   : A list of relevant frequency bands (e.g, alpha, beta, theta)\n",
        "    \"\"\"\n",
        "    electrodes = ['AF3', 'T7', 'Pz', 'T8', 'AF4']\n",
        "    num_time_points = 8  # Total number of time points\n",
        "\n",
        "    # Create a figure with subplots - one for each band and time point\n",
        "    fig, axes = plt.subplots(nrows=num_time_points, ncols=len(bands), figsize=(20, 20)) # Adjust figsize as needed\n",
        "    plt.subplots_adjust(hspace = 0.0001, wspace = 0.0001)\n",
        "    for col, band in enumerate(bands):\n",
        "        for row in range(num_time_points):\n",
        "            data = df.loc[row, [f\"{electrode}/{band}\" for electrode in electrodes]].values\n",
        "\n",
        "            # Create an info structure for MNE with standard 10-20 positions\n",
        "            montage = mne.channels.make_standard_montage('standard_1020')\n",
        "            info = mne.create_info(ch_names=electrodes, sfreq=1, ch_types='eeg')\n",
        "            info.set_montage(montage)\n",
        "\n",
        "            # Create an EvokedArray with the data\n",
        "            evoked = mne.EvokedArray(data[:, np.newaxis], info)\n",
        "\n",
        "            # Plot the topomap on the specified subplot\n",
        "            ax = axes[row, col]\n",
        "            im, cn = mne.viz.plot_topomap(evoked.data[:, 0], evoked.info, axes=ax, show=False, sensors='g+', names=electrodes)\n",
        "\n",
        "            # Increase font size of sensor names and size of markers\n",
        "            for text in ax.texts:\n",
        "                text.set_fontsize(15)  # Adjust text size here\n",
        "            for line in ax.lines:\n",
        "                line.set_markersize(20)  # Adjust marker size here\n",
        "\n",
        "    # Set the labels for the bands at the bottom of each column\n",
        "    for ax, band in zip(axes[-1], bands):\n",
        "        ax.set_xlabel(band, fontsize=14)\n",
        "\n",
        "    # Label y-axis with time points\n",
        "    for ax, time_point in zip(axes[:, 0], range(num_time_points)):\n",
        "        ax.set_ylabel(f'Time Point {time_point}', fontsize=14)\n",
        "\n",
        "    # Add overall x and y axis labels\n",
        "    fig.text(0.5, -0.01, 'Frequency Band', ha='center', va='center', fontsize=16)\n",
        "    fig.text(0.02, 0.5, 'Time Point', ha='center', va='center', rotation='vertical', fontsize=16)\n",
        "\n",
        "    plt.tight_layout(pad=3.0)  # Increase padding to prevent overlap\n",
        "    plt.show()"
      ]
    },
    {
      "cell_type": "code",
      "execution_count": null,
      "metadata": {
        "colab": {
          "base_uri": "https://localhost:8080/"
        },
        "id": "tPdemFf9ZqQz",
        "outputId": "db057f8a-596b-47fb-f447-b8c67b64cad9"
      },
      "outputs": [
        {
          "name": "stdout",
          "output_type": "stream",
          "text": [
            "[[-0.14943459 -0.19861914  0.07390748  1.8505917   2.14802475  0.57251163\n",
            "   1.07830096  1.15122754  2.81388078  2.28211117 -0.58629483 -0.16464612\n",
            "  -0.09156736  0.52095075  0.99373746  0.70160451  1.1890768   1.13838939\n",
            "   2.51869703  2.52970543 -0.27174366 -0.31385318  0.24915712  2.194143\n",
            "   2.37460921]\n",
            " [ 0.04245366 -0.04289248  0.59554901  1.40130326  1.91250632  0.7461405\n",
            "   1.51792924  1.85334646  2.44298142  2.11359798 -0.43227989 -0.13505682\n",
            "  -0.0314232   0.44281638  0.90531996  0.75486348  1.43049303  1.39748854\n",
            "   2.01886165  2.58638532 -0.08973218 -0.13508555  0.64083909  1.75610477\n",
            "   2.3045434 ]\n",
            " [ 0.02500749 -0.09829646  0.58599158  1.54077327  2.05108063  0.81588971\n",
            "   1.31410059  2.10533763  2.13823781  2.290842   -0.15658322 -0.04897736\n",
            "   0.1513055   0.33302645  0.81047661  0.76628182  1.58635881  1.74208014\n",
            "   2.09532131  2.21758091 -0.14550799 -0.26410744  0.57065774  1.40302091\n",
            "   2.03355671]\n",
            " [ 0.00341971 -0.10136157  0.24730482  1.22042392  1.81597752  0.73766352\n",
            "   0.95779339  1.45839067  1.68701524  1.94096525  0.16130113 -0.03213835\n",
            "   0.13970448  0.2356453   0.77047749  0.67292501  1.48291664  1.53615762\n",
            "   1.84274813  1.9543365  -0.17290013 -0.13762396  0.33833882  1.18713655\n",
            "   1.792595  ]\n",
            " [-0.02897798 -0.19301804  0.07794896  1.45506611  1.52277666  0.56239161\n",
            "   0.73113134  1.00934773  1.96332122  1.8210794   0.67328578  0.0344508\n",
            "   0.26289812  0.34012573  0.73368224  0.6971644   0.98702973  1.29144957\n",
            "   1.61635     1.75345775 -0.20059198 -0.16653164  0.08038396  1.13531662\n",
            "   1.74320735]\n",
            " [ 0.06255521 -0.09478599  0.01225323  1.33773055  1.67222187  0.59385658\n",
            "   0.71098197  0.96754427  2.06399979  1.82364697  1.16248828  0.14713079\n",
            "   0.2729564   0.30655661  0.81517112  0.77592855  0.95306193  0.88841023\n",
            "   1.47007024  1.7945367  -0.08749059 -0.11964077  0.02745619  1.14120467\n",
            "   1.85759338]\n",
            " [ 0.06104574 -0.13095464 -0.07636393  1.07915115  1.57389023  0.50944473\n",
            "   0.406674    0.80453779  1.86972043  1.66359362  1.05813972  0.13900255\n",
            "   0.25655173  0.3051103   0.82348927  0.67044782  0.91578562  0.75718629\n",
            "   1.31200965  1.86595146 -0.06304805 -0.15300508 -0.03377481  0.99012428\n",
            "   2.1265851 ]\n",
            " [ 0.08421084 -0.08526667 -0.2618828   0.78342402  1.48571007  0.68857261\n",
            "   0.60344835  0.74839323  1.58580585  1.56095195  1.39288053  0.17106474\n",
            "   0.11195737  0.34117814  0.75563864  0.74107063  1.04282971  0.31378922\n",
            "   1.19188347  1.87815178 -0.01521053 -0.03186981 -0.17065861  1.06400484\n",
            "   1.85553191]]\n"
          ]
        }
      ],
      "source": [
        "# Get the average band wise activuation for the positive class per channel\n",
        "# min-max scaling\n",
        "mean = eeg_combined_array.mean(axis=(0,1))\n",
        "std = eeg_combined_array.std(axis=(0,1))\n",
        "min = eeg_combined_array.min(axis=(0,1))\n",
        "max = eeg_combined_array.max(axis=(0,1))\n",
        "median = np.median(eeg_combined_array, axis=(0,1))\n",
        "quantile25 = np.quantile(eeg_combined_array, 0.25, axis=(0,1))\n",
        "quantile75 = np.quantile(eeg_combined_array, 0.75, axis=(0,1))\n",
        "iqr = quantile75 - quantile25\n",
        "original_columns = list(eeg_combined[0].columns)\n",
        "\n",
        "ctr = 0\n",
        "accumulate = np.zeros((8,25))\n",
        "for i in positive_class:\n",
        "  for example in i['eeg']:\n",
        "    # scaling\n",
        "    example = (example - median)/iqr\n",
        "    accumulate += example.to_numpy()\n",
        "    ctr += 1\n",
        "\n",
        "accumulate = accumulate / ctr\n",
        "accumulate_1 = pd.DataFrame(accumulate, columns = original_columns)\n",
        "print(accumulate)\n"
      ]
    },
    {
      "cell_type": "code",
      "execution_count": null,
      "metadata": {
        "id": "2wX0XC3LMM9q"
      },
      "outputs": [],
      "source": [
        "# Plot the average activation \n",
        "plot_topomaps(accumulate,bands)"
      ]
    },
    {
      "cell_type": "code",
      "execution_count": null,
      "metadata": {
        "colab": {
          "base_uri": "https://localhost:8080/"
        },
        "id": "IXjZbwe4tqTw",
        "outputId": "f257bc28-e825-453d-e4ed-3181760c80df"
      },
      "outputs": [
        {
          "name": "stdout",
          "output_type": "stream",
          "text": [
            "[[ 0.88377525  1.10768197  0.59267233  1.22342404  0.43513102  0.05147921\n",
            "   0.15544276 -0.07763171  0.13696925 -0.1512914   0.96395243  0.31106101\n",
            "   0.22455076  0.36479051  0.22136988 -0.13189243 -0.41627039 -1.53419943\n",
            "  -0.02858217 -0.67532964  0.95870376  1.26734545  0.17034001  1.43067544\n",
            "   0.25132378]\n",
            " [ 1.24471693  1.4208228   0.58548742  1.20856213  0.1320238   0.26791938\n",
            "   0.33586798 -0.17300754  0.21053371 -0.34752561  1.09223233  0.34759865\n",
            "   0.33870425  0.40129463  0.03725628 -0.12088062  0.01628527 -1.52805725\n",
            "  -0.14776275 -0.86459896  1.37290185  1.63018143  0.55565724  1.46279662\n",
            "   0.12408691]\n",
            " [ 1.40242122  1.80986845  1.02468677  1.45627194  0.39238437  0.37623068\n",
            "   0.73869386  0.00927981  0.09959153 -0.06475089  1.02169294  0.36154517\n",
            "   0.5182383   0.44749587  0.08979022 -0.10769453  0.09557279 -1.10107783\n",
            "  -0.24528568 -0.65538508  1.59188015  1.98702713  0.94341726  1.63646954\n",
            "   0.27682211]\n",
            " [ 1.34466294  1.89740404  1.25142263  1.96396569  0.27340509  0.30061644\n",
            "   0.88687216  0.17881113  0.5463756  -0.13406428  0.61589128  0.35172312\n",
            "   0.42557294  0.42788404  0.12366472 -0.21671075  0.01947604 -0.68906616\n",
            "   0.03133893 -0.74182121  1.54479773  2.25751685  0.94023791  2.56483644\n",
            "   0.71349847]\n",
            " [ 1.06938523  1.51773678  1.20931701  2.23934341  0.02684733  0.26250752\n",
            "   1.03417051  0.48621295  1.08075092 -0.3045769   0.46198754  0.2514427\n",
            "   0.39416113  0.34726228  0.06409099 -0.11574602  0.28004201 -0.33103208\n",
            "   0.23745906 -0.87400781  1.24610303  1.89819718  0.83744052  2.21499471\n",
            "   0.79107681]\n",
            " [ 1.28890369  1.46963814  1.34994137  1.79459952 -0.24890866  0.29938328\n",
            "   0.58694218  0.08214041  0.51015556 -0.51496675  0.61171589  0.25488081\n",
            "   0.46572525  0.2732973  -0.0288324  -0.1232471   0.03564037 -0.61699877\n",
            "  -0.16665969 -1.06034213  1.4732962   1.76514677  0.95068557  1.70293653\n",
            "   0.3365755 ]\n",
            " [ 1.14589547  1.37938798  1.3654502   1.34104942 -0.090463    0.13805788\n",
            "   0.32731928 -0.10246239  0.29545605 -0.32959869  0.56777577  0.30734802\n",
            "   0.37217558  0.29776598  0.11737491 -0.20374938 -0.05217529 -0.92048617\n",
            "  -0.51700711 -0.7806624   1.32804867  1.74630198  1.11892579  1.38277873\n",
            "   0.18426167]\n",
            " [ 0.58450685  0.79829379  0.5287154   0.95818862  0.04099696 -0.16497884\n",
            "  -0.07928253 -0.629386    0.08201689 -0.19314059  0.38582684  0.24707501\n",
            "   0.13491997  0.1757772   0.14827024 -0.1305352  -0.17869883 -1.26420133\n",
            "  -0.83293115 -0.64130086  0.63059617  1.03668931  0.25340041  0.77289015\n",
            "   0.1731026 ]]\n"
          ]
        }
      ],
      "source": [
        "# Get the average band wise activuation for the negative class\n",
        "# min-max scaling\n",
        "mean = eeg_combined_array.mean(axis=(0,1))\n",
        "std = eeg_combined_array.std(axis=(0,1))\n",
        "min = eeg_combined_array.min(axis=(0,1))\n",
        "max = eeg_combined_array.max(axis=(0,1))\n",
        "median = np.median(eeg_combined_array, axis=(0,1))\n",
        "quantile25 = np.quantile(eeg_combined_array, 0.25, axis=(0,1))\n",
        "quantile75 = np.quantile(eeg_combined_array, 0.75, axis=(0,1))\n",
        "iqr = quantile75 - quantile25\n",
        "original_columns = list(eeg_combined[0].columns)\n",
        "\n",
        "ctr = 0\n",
        "accumulate = np.zeros((8,25))\n",
        "for i in negative_class:\n",
        "  for example in i['eeg']:\n",
        "    # scaling\n",
        "    example = (example - median)/iqr\n",
        "    accumulate += example.to_numpy()\n",
        "    ctr += 1\n",
        "\n",
        "accumulate = accumulate / ctr\n",
        "accumulate_2 = pd.DataFrame(accumulate, columns = original_columns)\n",
        "print(accumulate)"
      ]
    },
    {
      "cell_type": "code",
      "execution_count": null,
      "metadata": {},
      "outputs": [],
      "source": [
        "plot_topomaps(accumulate,bands)"
      ]
    },
    {
      "cell_type": "code",
      "execution_count": null,
      "metadata": {
        "colab": {
          "base_uri": "https://localhost:8080/"
        },
        "id": "u208aMTbVXfM",
        "outputId": "de382183-2cd5-4c09-d92a-6814e08ac3fd"
      },
      "outputs": [
        {
          "name": "stdout",
          "output_type": "stream",
          "text": [
            "n files in folder before: \n"
          ]
        },
        {
          "data": {
            "text/plain": [
              "0"
            ]
          },
          "execution_count": 32,
          "metadata": {},
          "output_type": "execute_result"
        }
      ],
      "source": [
        "print('n files in folder before: ')\n",
        "len(os.listdir('all_combined/gsr/positive_class'))"
      ]
    },
    {
      "cell_type": "code",
      "execution_count": null,
      "metadata": {
        "id": "_M5tu1azY14k"
      },
      "outputs": [],
      "source": [
        "for i,dat in enumerate(X_gsr):\n",
        "  #print(len(i))\n",
        "  for j, df in enumerate(dat):\n",
        "    df = df.reset_index(drop = True).T\n",
        "    #/Users/udeshhabaraduwa/Library/CloudStorage/GoogleDrive-u.habaraduwakandambige@tilburguniversity.edu/Mijn Drive/\n",
        "    df.to_csv(f'all_combined/gsr/positive_class/match_{i}_event_{j}.csv')"
      ]
    },
    {
      "cell_type": "code",
      "execution_count": null,
      "metadata": {
        "colab": {
          "base_uri": "https://localhost:8080/"
        },
        "id": "vSFgr2eBVerr",
        "outputId": "0351721b-4125-43b1-b4e0-0747dff5ead1"
      },
      "outputs": [
        {
          "name": "stdout",
          "output_type": "stream",
          "text": [
            "n files in folder after, should match pos_total for GSR: \n",
            "637\n"
          ]
        },
        {
          "data": {
            "text/plain": [
              "637"
            ]
          },
          "execution_count": 34,
          "metadata": {},
          "output_type": "execute_result"
        }
      ],
      "source": [
        "print('n files in folder after, should match pos_total for GSR: ')\n",
        "print(pos_total['gsr'])\n",
        "len(os.listdir('all_combined/gsr/positive_class/'))"
      ]
    },
    {
      "cell_type": "code",
      "execution_count": null,
      "metadata": {
        "colab": {
          "base_uri": "https://localhost:8080/"
        },
        "id": "FEtKnVbrVr8H",
        "outputId": "e543bb77-5f9e-4a3e-915b-336f4ac2dfb1"
      },
      "outputs": [
        {
          "name": "stdout",
          "output_type": "stream",
          "text": [
            "n files in folder before: \n"
          ]
        },
        {
          "data": {
            "text/plain": [
              "0"
            ]
          },
          "execution_count": 35,
          "metadata": {},
          "output_type": "execute_result"
        }
      ],
      "source": [
        "print('n files in folder before: ')\n",
        "len(os.listdir('all_combined/hr/positive_class'))"
      ]
    },
    {
      "cell_type": "code",
      "execution_count": null,
      "metadata": {
        "id": "5XqnJl_xclXz"
      },
      "outputs": [],
      "source": [
        "for i,dat in enumerate(X_hr):\n",
        "  for j, df in enumerate(dat):\n",
        "    hr_vals = pd.DataFrame(df['heart_rate'].reset_index(drop = True)).T\n",
        "    hr_vals.to_csv(f'all_combined/hr/positive_class/match_{i}_event_{j}.csv')"
      ]
    },
    {
      "cell_type": "code",
      "execution_count": null,
      "metadata": {
        "colab": {
          "base_uri": "https://localhost:8080/"
        },
        "id": "C2sFFMRnWQkZ",
        "outputId": "5c71f087-f006-458f-b52c-e47a3bfb68b9"
      },
      "outputs": [
        {
          "name": "stdout",
          "output_type": "stream",
          "text": [
            "n files in folder after, should match pos_total for HR: \n",
            "637\n"
          ]
        },
        {
          "data": {
            "text/plain": [
              "637"
            ]
          },
          "execution_count": 37,
          "metadata": {},
          "output_type": "execute_result"
        }
      ],
      "source": [
        "print('n files in folder after, should match pos_total for HR: ')\n",
        "print(pos_total['hr'])\n",
        "len(os.listdir('all_combined/hr/positive_class/'))"
      ]
    },
    {
      "cell_type": "markdown",
      "metadata": {
        "id": "zA4yngxVh-pn"
      },
      "source": [
        "## Generate the negative class files"
      ]
    },
    {
      "cell_type": "code",
      "execution_count": null,
      "metadata": {
        "colab": {
          "base_uri": "https://localhost:8080/"
        },
        "id": "chSNyCMbWeOp",
        "outputId": "9b745e55-64a4-41d7-9124-37a3edafe5f0"
      },
      "outputs": [
        {
          "name": "stdout",
          "output_type": "stream",
          "text": [
            "n files in folder before: \n"
          ]
        },
        {
          "data": {
            "text/plain": [
              "0"
            ]
          },
          "execution_count": 38,
          "metadata": {},
          "output_type": "execute_result"
        }
      ],
      "source": [
        "print('n files in folder before: ')\n",
        "len(os.listdir('all_combined/eeg_images/negative_class'))\n"
      ]
    },
    {
      "cell_type": "code",
      "execution_count": null,
      "metadata": {
        "id": "opCM4EIKiC9N"
      },
      "outputs": [],
      "source": [
        "X_eeg = []\n",
        "X_gsr = []\n",
        "X_hr = []\n",
        "# class is a list of dictionaries\n",
        "for sample in negative_class:\n",
        "  for signal in sample:\n",
        "    #print(signal, len(sample[signal]))\n",
        "    if signal == 'eeg':\n",
        "      X_eeg.append(sample[signal])\n",
        "    if signal == 'gsr':\n",
        "      X_gsr.append(sample[signal])\n",
        "    if signal == 'hr':\n",
        "      X_hr.append(sample[signal])\n",
        "\n",
        "path = 'all_combined/eeg_images'\n",
        "\n",
        "_class = 'negative_class'\n",
        "eeg_to_image(X_eeg,path,_class,eeg_combined_array,\"negative\")"
      ]
    },
    {
      "cell_type": "code",
      "execution_count": null,
      "metadata": {
        "colab": {
          "base_uri": "https://localhost:8080/"
        },
        "id": "rzOv92b8WlY8",
        "outputId": "a075236d-0edf-446e-e173-63999bc2f48e"
      },
      "outputs": [
        {
          "name": "stdout",
          "output_type": "stream",
          "text": [
            "n files in folder after, should match neg_total for EEG: \n",
            "637\n"
          ]
        },
        {
          "data": {
            "text/plain": [
              "637"
            ]
          },
          "execution_count": 40,
          "metadata": {},
          "output_type": "execute_result"
        }
      ],
      "source": [
        "print('n files in folder after, should match neg_total for EEG: ')\n",
        "print(neg_total['eeg'])\n",
        "len(os.listdir('all_combined/eeg_images/negative_class/'))"
      ]
    },
    {
      "cell_type": "code",
      "execution_count": null,
      "metadata": {
        "colab": {
          "base_uri": "https://localhost:8080/"
        },
        "id": "FP5xdiXAX6Md",
        "outputId": "a6e54478-7040-4007-9ed9-9f0ab5ccfe38"
      },
      "outputs": [
        {
          "name": "stdout",
          "output_type": "stream",
          "text": [
            "n files in folder before: \n"
          ]
        },
        {
          "data": {
            "text/plain": [
              "0"
            ]
          },
          "execution_count": 41,
          "metadata": {},
          "output_type": "execute_result"
        }
      ],
      "source": [
        "print('n files in folder before: ')\n",
        "len(os.listdir('all_combined/gsr/negative_class'))"
      ]
    },
    {
      "cell_type": "code",
      "execution_count": null,
      "metadata": {
        "id": "n8EkhxB3iC9O"
      },
      "outputs": [],
      "source": [
        "for i,dat in enumerate(X_gsr):\n",
        "  for j, df in enumerate(dat):\n",
        "    df = df.reset_index(drop = True).T\n",
        "    df.to_csv(f'all_combined/gsr/negative_class/match_{i}_event_{j}.csv')"
      ]
    },
    {
      "cell_type": "code",
      "execution_count": null,
      "metadata": {
        "colab": {
          "base_uri": "https://localhost:8080/"
        },
        "id": "yID0y-5TYA0i",
        "outputId": "16030f4d-bcac-444b-9481-cdccebb98e5c"
      },
      "outputs": [
        {
          "name": "stdout",
          "output_type": "stream",
          "text": [
            "n files in folder after, should match neg_total for gsr: \n",
            "637\n"
          ]
        },
        {
          "data": {
            "text/plain": [
              "637"
            ]
          },
          "execution_count": 43,
          "metadata": {},
          "output_type": "execute_result"
        }
      ],
      "source": [
        "print('n files in folder after, should match neg_total for gsr: ')\n",
        "print(neg_total['gsr'])\n",
        "len(os.listdir('all_combined/gsr/negative_class/'))"
      ]
    },
    {
      "cell_type": "code",
      "execution_count": null,
      "metadata": {
        "colab": {
          "base_uri": "https://localhost:8080/"
        },
        "id": "kG6AwJiQYKUx",
        "outputId": "3b720be8-e1cb-448f-cd75-ebf894851cd6"
      },
      "outputs": [
        {
          "name": "stdout",
          "output_type": "stream",
          "text": [
            "n files in folder before: \n"
          ]
        },
        {
          "data": {
            "text/plain": [
              "0"
            ]
          },
          "execution_count": 44,
          "metadata": {},
          "output_type": "execute_result"
        }
      ],
      "source": [
        "print('n files in folder before: ')\n",
        "len(os.listdir('all_combined/hr/negative_class'))"
      ]
    },
    {
      "cell_type": "code",
      "execution_count": null,
      "metadata": {
        "id": "_Tc6-DyRiC9O"
      },
      "outputs": [],
      "source": [
        "for i,dat in enumerate(X_hr):\n",
        "  for j, df in enumerate(dat):\n",
        "    hr_vals = pd.DataFrame(df['heart_rate'].reset_index(drop = True)).T\n",
        "    hr_vals.to_csv(f'all_combined/hr/negative_class/match_{i}_event_{j}.csv')"
      ]
    },
    {
      "cell_type": "code",
      "execution_count": null,
      "metadata": {
        "colab": {
          "base_uri": "https://localhost:8080/"
        },
        "id": "CPCjJ6NoYP6o",
        "outputId": "107ea148-040e-4a0a-e500-1da72546087d"
      },
      "outputs": [
        {
          "name": "stdout",
          "output_type": "stream",
          "text": [
            "n files in folder after, should match neg_total for hr: \n",
            "637\n"
          ]
        },
        {
          "data": {
            "text/plain": [
              "637"
            ]
          },
          "execution_count": 46,
          "metadata": {},
          "output_type": "execute_result"
        }
      ],
      "source": [
        "print('n files in folder after, should match neg_total for hr: ')\n",
        "print(neg_total['hr'])\n",
        "len(os.listdir('all_combined/hr/negative_class/'))"
      ]
    },
    {
      "cell_type": "markdown",
      "metadata": {
        "id": "kCpFrZR2-TnE"
      },
      "source": [
        "## Example windows"
      ]
    },
    {
      "cell_type": "code",
      "execution_count": null,
      "metadata": {
        "id": "es8aQ5XPbgaD"
      },
      "outputs": [],
      "source": [
        "d_times_array = all_signals['match_10']['player_3']['death_times']\n",
        "k_times_array = all_signals['match_10']['player_3']['kill_times']\n",
        "a_times_array = all_signals['match_10']['player_3']['assist_times']\n",
        "closest_indices_dtimes = [np.abs(all_signals['match_10']['player_3']['gsr']['time'] - time).argmin() for time in d_times_array]\n",
        "closest_indices_ktimes = [np.abs(all_signals['match_10']['player_3']['gsr']['time'] - time).argmin() for time in k_times_array]\n",
        "closest_indices_atimes = [np.abs(all_signals['match_10']['player_3']['gsr']['time'] - time).argmin() for time in a_times_array]"
      ]
    },
    {
      "cell_type": "code",
      "execution_count": null,
      "metadata": {
        "colab": {
          "base_uri": "https://localhost:8080/"
        },
        "id": "WLqQsr4HcS0k",
        "outputId": "e9b7e312-8ddf-4bc1-f605-f863e20173f6"
      },
      "outputs": [
        {
          "data": {
            "text/plain": [
              "[718.026, 919.011, 1000.43, 1125.558, 1320.2, 1360.205]"
            ]
          },
          "execution_count": 48,
          "metadata": {},
          "output_type": "execute_result"
        }
      ],
      "source": [
        "d_times_array"
      ]
    },
    {
      "cell_type": "code",
      "execution_count": null,
      "metadata": {
        "colab": {
          "base_uri": "https://localhost:8080/"
        },
        "id": "yXTBExIIcNz_",
        "outputId": "62a1b9a9-1233-4e4b-f0a2-b38da93459d2"
      },
      "outputs": [
        {
          "data": {
            "text/plain": [
              "[718, 919, 1000, 1126, 1320, 1360]"
            ]
          },
          "execution_count": 49,
          "metadata": {},
          "output_type": "execute_result"
        }
      ],
      "source": [
        "closest_indices_dtimes"
      ]
    },
    {
      "cell_type": "code",
      "execution_count": null,
      "metadata": {
        "colab": {
          "base_uri": "https://localhost:8080/"
        },
        "id": "y5JLMxXUhBs0",
        "outputId": "0038f366-67f2-40ca-8973-f64234190a77"
      },
      "outputs": [
        {
          "data": {
            "text/plain": [
              "dict_keys(['duration', 'player_1'])"
            ]
          },
          "execution_count": 50,
          "metadata": {},
          "output_type": "execute_result"
        }
      ],
      "source": [
        "all_signals['match_1'].keys()"
      ]
    },
    {
      "cell_type": "code",
      "execution_count": null,
      "metadata": {
        "colab": {
          "base_uri": "https://localhost:8080/",
          "height": 430
        },
        "id": "kO8xXjGXb9GT",
        "outputId": "b6903f42-5390-4c82-a91f-927c48a41ed2"
      },
      "outputs": [
        {
          "data": {
            "image/png": "[encoded data removed]",
            "text/plain": [
              "<Figure size 640x480 with 1 Axes>"
            ]
          },
          "metadata": {},
          "output_type": "display_data"
        }
      ],
      "source": [
        "event_list = [closest_indices_dtimes,closest_indices_ktimes,closest_indices_atimes]\n",
        "plt.plot(all_signals['match_1']['player_1']['gsr']['gsr'].values)\n",
        "colors = ['r','g','y']\n",
        "for i,event in enumerate(event_list):\n",
        "  for time in event:\n",
        "      plt.axvline(x=time, color=colors[i], linestyle='--',)"
      ]
    },
    {
      "cell_type": "code",
      "execution_count": null,
      "metadata": {
        "id": "nKNqzXCJgcDj"
      },
      "outputs": [],
      "source": [
        "# set time window t = 4 based https://link.springer.com/article/10.1007/s41060-024-00529-6\n",
        "delta = 8\n",
        "dtimes_windows = []\n",
        "for t in d_times_array:\n",
        "  t_plus_delta = t + delta\n",
        "  t_plus_delta_index = np.abs(all_signals['match_10']['player_3']['gsr']['time'] - t_plus_delta).argmin()\n",
        "  t_minus_delta = t - delta\n",
        "  t_minus_delta_index = np.abs(all_signals['match_10']['player_3']['gsr']['time'] - t_minus_delta).argmin()\n",
        "  window = [t_minus_delta_index, t_plus_delta_index]\n",
        "  dtimes_windows.append(window)\n"
      ]
    },
    {
      "cell_type": "code",
      "execution_count": null,
      "metadata": {
        "colab": {
          "base_uri": "https://localhost:8080/"
        },
        "id": "v9UmDXAblYr3",
        "outputId": "6345fb5a-2ce3-48b2-aaf2-7a132c988cdb"
      },
      "outputs": [
        {
          "data": {
            "text/plain": [
              "[718, 919, 1000, 1126, 1320, 1360]"
            ]
          },
          "execution_count": 53,
          "metadata": {},
          "output_type": "execute_result"
        }
      ],
      "source": [
        "closest_indices_dtimes"
      ]
    },
    {
      "cell_type": "code",
      "execution_count": null,
      "metadata": {
        "colab": {
          "base_uri": "https://localhost:8080/"
        },
        "id": "XJfoz55blZ-T",
        "outputId": "0b7e4dff-62bd-4f92-b75e-39f40242ffc5"
      },
      "outputs": [
        {
          "data": {
            "text/plain": [
              "[[710, 726], [911, 927], [992, 1008], [1118, 1134], [1312, 1328], [1352, 1368]]"
            ]
          },
          "execution_count": 54,
          "metadata": {},
          "output_type": "execute_result"
        }
      ],
      "source": [
        "dtimes_windows"
      ]
    },
    {
      "cell_type": "code",
      "execution_count": null,
      "metadata": {
        "colab": {
          "base_uri": "https://localhost:8080/",
          "height": 559
        },
        "id": "7p1wW2_uieV5",
        "outputId": "5d57cadc-c1a7-4b2e-e37f-5b5c46b84c35"
      },
      "outputs": [
        {
          "data": {
            "text/plain": [
              "Text(0, 0.5, 'GSR ($\\\\Omega$)')"
            ]
          },
          "execution_count": 55,
          "metadata": {},
          "output_type": "execute_result"
        },
        {
          "data": {
            "image/png": "[encoded data removed]",
            "text/plain": [
              "<Figure size 1500x600 with 1 Axes>"
            ]
          },
          "metadata": {},
          "output_type": "display_data"
        }
      ],
      "source": [
        "ts = all_signals['match_10']['player_3']['gsr']['gsr'].values\n",
        "\n",
        "fig, ax = plt.subplots(figsize=(15, 6))\n",
        "ax.plot(ts)\n",
        "for start, end in dtimes_windows:\n",
        "    ax.axvline(x=start, color='blue', linestyle='--')  # Line at the start of the interval\n",
        "    ax.axvline(x=end, color='red', linestyle='--')    # Line at the end of the interval\n",
        "    ax.fill_betweenx(y=[ts.min(), ts.max()],x1=start, x2=end, color='gray', alpha=0.5)  # Fill between the lines\n",
        "\n",
        "ax.set_xlabel('Time (s)')\n",
        "ax.set_ylabel('GSR ($\\Omega$)')\n"
      ]
    },
    {
      "cell_type": "markdown",
      "metadata": {
        "id": "M6NMpQzqj-Zw"
      },
      "source": [
        "## Seperate real opponents vs not"
      ]
    },
    {
      "cell_type": "code",
      "execution_count": null,
      "metadata": {
        "id": "80w5BED4kAw-"
      },
      "outputs": [],
      "source": [
        "real = ['match_1','match_3','match_5','match_7','match_8','match_10','match_11','match_13','match_14','match_16','match_18','match_20']"
      ]
    },
    {
      "cell_type": "code",
      "execution_count": null,
      "metadata": {
        "id": "pgZhSZOik_VL"
      },
      "outputs": [],
      "source": [
        "real_positive_class = []\n",
        "real_negative_class = []\n",
        "bot_positive_class  = []\n",
        "bot_negative_class = []\n",
        "\n",
        "for match_id in all_signals:\n",
        "  if match_id in real:\n",
        "  #print(match_id, all_signals[match_id].keys())\n",
        "    for player in all_signals[match_id]:\n",
        "      if 'eeg_power' in all_signals[match_id][player].keys():\n",
        "        #print(match_id, player,all_signals[match_id][player].keys())\n",
        "        train_data =get_windows(all_signals[match_id][player],time_delta = 4,under_sample = True)\n",
        "        real_positive_class.append(train_data[0])\n",
        "        real_negative_class.append(train_data[1])\n",
        "  else:\n",
        "    for player in all_signals[match_id]:\n",
        "      if 'eeg_power' in all_signals[match_id][player].keys():\n",
        "        #print(match_id, player,all_signals[match_id][player].keys())\n",
        "        train_data =get_windows(all_signals[match_id][player],time_delta = 4,under_sample = True)\n",
        "        bot_positive_class.append(train_data[0])\n",
        "        bot_negative_class.append(train_data[1])\n"
      ]
    },
    {
      "cell_type": "code",
      "execution_count": null,
      "metadata": {
        "colab": {
          "base_uri": "https://localhost:8080/"
        },
        "id": "_9NiuvCLiqlH",
        "outputId": "5c28e129-7714-4b4a-bcf2-a997c59fe04c"
      },
      "outputs": [
        {
          "data": {
            "text/plain": [
              "{'eeg': 402, 'gsr': 402, 'hr': 402}"
            ]
          },
          "execution_count": 58,
          "metadata": {},
          "output_type": "execute_result"
        }
      ],
      "source": [
        "signals = ['eeg', 'gsr', 'hr']\n",
        "real_pos_total = {'eeg' : 0, 'gsr' : 0, 'hr' : 0}\n",
        "for match_player in real_positive_class:\n",
        "  #print(k, len(positive_class[0][k])\n",
        "  real_pos_total['eeg'] += len(match_player['eeg'])\n",
        "  real_pos_total['gsr'] += len(match_player['gsr'])\n",
        "  real_pos_total['hr'] += len(match_player['hr'])\n",
        "  # for j in positive_class[0][k]:\n",
        "  #   print(len(j))\n",
        "real_pos_total"
      ]
    },
    {
      "cell_type": "code",
      "execution_count": null,
      "metadata": {
        "colab": {
          "base_uri": "https://localhost:8080/"
        },
        "id": "8wme26UgiqlJ",
        "outputId": "32b654a6-2817-4429-cc88-a00b30bd34dd"
      },
      "outputs": [
        {
          "data": {
            "text/plain": [
              "{'eeg': 402, 'gsr': 402, 'hr': 402}"
            ]
          },
          "execution_count": 59,
          "metadata": {},
          "output_type": "execute_result"
        }
      ],
      "source": [
        "real_neg_total = {'eeg' : 0, 'gsr' : 0, 'hr' : 0}\n",
        "for match_player in real_negative_class:\n",
        "  #print(k, len(positive_class[0][k]))\n",
        "  real_neg_total['eeg'] += len(match_player['eeg'])\n",
        "  real_neg_total['gsr'] += len(match_player['gsr'])\n",
        "  real_neg_total['hr'] += len(match_player['hr'])\n",
        "real_neg_total"
      ]
    },
    {
      "cell_type": "markdown",
      "metadata": {
        "id": "wkQ1IaWHsKTD"
      },
      "source": [
        "### Generative positive class"
      ]
    },
    {
      "cell_type": "markdown",
      "metadata": {
        "id": "8h9wtQsOdU-9"
      },
      "source": [
        "### Real"
      ]
    },
    {
      "cell_type": "code",
      "execution_count": null,
      "metadata": {
        "id": "YCSE2auD3tKO"
      },
      "outputs": [],
      "source": [
        "# min-max scaling\n",
        "mean = eeg_combined_array.mean(axis=(0,1))\n",
        "std = eeg_combined_array.std(axis=(0,1))\n",
        "min = eeg_combined_array.min(axis=(0,1))\n",
        "max = eeg_combined_array.max(axis=(0,1))\n",
        "median = np.median(eeg_combined_array, axis=(0,1))\n",
        "quantile25 = np.quantile(eeg_combined_array, 0.25, axis=(0,1))\n",
        "quantile75 = np.quantile(eeg_combined_array, 0.75, axis=(0,1))\n",
        "iqr = quantile75 - quantile25\n",
        "\n",
        "bands = ['theta','alpha','betaL','betaH','gamma']\n",
        "group_bands = []\n",
        "for b in bands:\n",
        "  l = []\n",
        "  for c in cols:\n",
        "    if b in c:\n",
        "      l.append(c)\n",
        "  group_bands.append(l)\n",
        "\n",
        "positive_new_features = []\n",
        "for collection in real_positive_class:\n",
        "  for example in collection['eeg']:\n",
        "    ex_features = []\n",
        "    #np_array = example.to_numpy()\n",
        "    example = (example - median)/iqr\n",
        "    #np_array_robust_T = np_array_robust.T\n",
        "    for band in group_bands:\n",
        "      #print(type(ex['eeg']))\n",
        "      band_i = example[band].values.flatten()\n",
        "      band_mean = np.mean(band_i)\n",
        "      band_max = np.max(band_i)\n",
        "      band_min = np.min(band_i)\n",
        "      #print(band_mean, band_max, band_min)\n",
        "      ex_features.extend([band_mean,band_max,band_min])\n",
        "    positive_new_features.append(ex_features)\n",
        "positive_new_features = np.array(positive_new_features)\n",
        "\n",
        "negative_new_features = []\n",
        "for collection in real_negative_class:\n",
        "  for example in collection['eeg']:\n",
        "    ex_features = []\n",
        "    example = (example - median)/iqr\n",
        "    for band in group_bands:\n",
        "      #print(type(ex['eeg']))\n",
        "      band_i = example[band].values.flatten()\n",
        "      band_mean = np.mean(band_i)\n",
        "      band_max = np.max(band_i)\n",
        "      band_min = np.min(band_i)\n",
        "      #print(band_mean, band_max, band_min)\n",
        "      ex_features.extend([band_mean,band_max,band_min])\n",
        "    negative_new_features.append(ex_features)\n",
        "negative_new_features = np.array(negative_new_features)\n",
        "\n",
        "np.savetxt(\"real_only/positive_eeg.csv\", positive_new_features, delimiter=\",\")\n",
        "np.savetxt(\"real_only/negative_eeg.csv\", negative_new_features, delimiter=\",\")"
      ]
    },
    {
      "cell_type": "code",
      "execution_count": null,
      "metadata": {
        "colab": {
          "base_uri": "https://localhost:8080/"
        },
        "id": "BnqPG04bjjcP",
        "outputId": "9fdb71c4-3771-4f57-bedb-491deeafd4d4"
      },
      "outputs": [
        {
          "name": "stdout",
          "output_type": "stream",
          "text": [
            "n files in folder before: \n"
          ]
        },
        {
          "data": {
            "text/plain": [
              "0"
            ]
          },
          "execution_count": 61,
          "metadata": {},
          "output_type": "execute_result"
        }
      ],
      "source": [
        "print('n files in folder before: ')\n",
        "len(os.listdir('real_only/eeg_images/positive_class'))\n",
        "\n"
      ]
    },
    {
      "cell_type": "code",
      "execution_count": null,
      "metadata": {
        "id": "IP20PTvYlQAH"
      },
      "outputs": [],
      "source": [
        "X_eeg = []\n",
        "X_gsr = []\n",
        "X_hr = []\n",
        "# class is a list of dictionaries\n",
        "for sample in real_positive_class:\n",
        "  for signal in sample:\n",
        "    #print(signal, len(sample[signal]))\n",
        "    if signal == 'eeg':\n",
        "      X_eeg.append(sample[signal])\n",
        "    if signal == 'gsr':\n",
        "      X_gsr.append(sample[signal])\n",
        "    if signal == 'hr':\n",
        "      X_hr.append(sample[signal])\n",
        "\n",
        "path = 'real_only/eeg_images'\n",
        "\n",
        "_class = 'positive_class'\n",
        "eeg_to_image(X_eeg,path,_class,eeg_combined_array,\"positive\")"
      ]
    },
    {
      "cell_type": "code",
      "execution_count": null,
      "metadata": {
        "colab": {
          "base_uri": "https://localhost:8080/"
        },
        "id": "Zx_MzU68jsX5",
        "outputId": "4fbc7077-0b0a-4ed7-fab6-95f5beb05832"
      },
      "outputs": [
        {
          "name": "stdout",
          "output_type": "stream",
          "text": [
            "n files in folder after, should match pro_pos_total for gsr: \n",
            "402\n"
          ]
        },
        {
          "data": {
            "text/plain": [
              "402"
            ]
          },
          "execution_count": 63,
          "metadata": {},
          "output_type": "execute_result"
        }
      ],
      "source": [
        "print('n files in folder after, should match pro_pos_total for gsr: ')\n",
        "print(real_pos_total['eeg'])\n",
        "len(os.listdir('real_only/eeg_images/positive_class/'))"
      ]
    },
    {
      "cell_type": "code",
      "execution_count": null,
      "metadata": {
        "colab": {
          "base_uri": "https://localhost:8080/"
        },
        "id": "sr2wQVqDj9zj",
        "outputId": "88a55e4e-1d31-47f7-8de2-1dabcabd65f6"
      },
      "outputs": [
        {
          "name": "stdout",
          "output_type": "stream",
          "text": [
            "n files in folder before: \n"
          ]
        },
        {
          "data": {
            "text/plain": [
              "0"
            ]
          },
          "execution_count": 64,
          "metadata": {},
          "output_type": "execute_result"
        }
      ],
      "source": [
        "print('n files in folder before: ')\n",
        "len(os.listdir('real_only/gsr/positive_class'))"
      ]
    },
    {
      "cell_type": "code",
      "execution_count": null,
      "metadata": {
        "id": "4GsAfViIrxrX"
      },
      "outputs": [],
      "source": [
        "for i,dat in enumerate(X_gsr):\n",
        "  #print(len(i))\n",
        "  for j, df in enumerate(dat):\n",
        "    df = df.reset_index(drop = True).T\n",
        "    df.to_csv(f'real_only/gsr/positive_class/match_{i}_event_{j}.csv')"
      ]
    },
    {
      "cell_type": "code",
      "execution_count": null,
      "metadata": {
        "colab": {
          "base_uri": "https://localhost:8080/"
        },
        "id": "xPZp_HoHkAJA",
        "outputId": "c9853579-0f9d-4143-a9e1-ddcadc862823"
      },
      "outputs": [
        {
          "name": "stdout",
          "output_type": "stream",
          "text": [
            "n files in folder after, should match real_pos_total for gsr: \n",
            "402\n"
          ]
        },
        {
          "data": {
            "text/plain": [
              "402"
            ]
          },
          "execution_count": 66,
          "metadata": {},
          "output_type": "execute_result"
        }
      ],
      "source": [
        "print('n files in folder after, should match real_pos_total for gsr: ')\n",
        "print(real_pos_total['gsr'])\n",
        "len(os.listdir('real_only/gsr/positive_class/'))"
      ]
    },
    {
      "cell_type": "code",
      "execution_count": null,
      "metadata": {
        "colab": {
          "base_uri": "https://localhost:8080/"
        },
        "id": "ADxBcMNIkK67",
        "outputId": "62e04a0c-c560-4721-be92-7c56401b1c9f"
      },
      "outputs": [
        {
          "name": "stdout",
          "output_type": "stream",
          "text": [
            "n files in folder before: \n"
          ]
        },
        {
          "data": {
            "text/plain": [
              "0"
            ]
          },
          "execution_count": 67,
          "metadata": {},
          "output_type": "execute_result"
        }
      ],
      "source": [
        "print('n files in folder before: ')\n",
        "len(os.listdir('real_only/hr/positive_class'))"
      ]
    },
    {
      "cell_type": "code",
      "execution_count": null,
      "metadata": {
        "id": "BhEKZOWMr6F4"
      },
      "outputs": [],
      "source": [
        "for i,dat in enumerate(X_hr):\n",
        "  for j, df in enumerate(dat):\n",
        "    hr_vals = pd.DataFrame(df['heart_rate'].reset_index(drop = True)).T\n",
        "    hr_vals.to_csv(f'/content/drive/MyDrive/Tilburg/Masters CSAI/Year 1 - Semester 2/Brain Computer Interfacing/BCI Project/training data/context_4/real_only/hr/positive_class/match_{i}_event_{j}.csv')"
      ]
    },
    {
      "cell_type": "code",
      "execution_count": null,
      "metadata": {
        "colab": {
          "base_uri": "https://localhost:8080/"
        },
        "id": "jPIS1sx9kNuQ",
        "outputId": "697f5d42-090d-4fb9-8c08-5b2de26f577d"
      },
      "outputs": [
        {
          "name": "stdout",
          "output_type": "stream",
          "text": [
            "n files in folder after, should match pro_pos_total for gsr: \n",
            "402\n"
          ]
        },
        {
          "data": {
            "text/plain": [
              "402"
            ]
          },
          "execution_count": 69,
          "metadata": {},
          "output_type": "execute_result"
        }
      ],
      "source": [
        "print('n files in folder after, should match pro_pos_total for gsr: ')\n",
        "print(real_pos_total['hr'])\n",
        "len(os.listdir('/content/drive/MyDrive/Tilburg/Masters CSAI/Year 1 - Semester 2/Brain Computer Interfacing/BCI Project/training data/context_4/real_only/hr/positive_class/'))"
      ]
    },
    {
      "cell_type": "markdown",
      "metadata": {
        "id": "rhLm5ZpEddJR"
      },
      "source": [
        "### Bot"
      ]
    },
    {
      "cell_type": "code",
      "execution_count": null,
      "metadata": {
        "id": "aT_8Apprdi8s"
      },
      "outputs": [],
      "source": [
        "X_eeg = []\n",
        "X_gsr = []\n",
        "X_hr = []\n",
        "# class is a list of dictionaries\n",
        "for sample in bot_positive_class:\n",
        "  for signal in sample:\n",
        "    if signal == 'eeg':\n",
        "      X_eeg.append(sample[signal])\n",
        "    if signal == 'gsr':\n",
        "      X_gsr.append(sample[signal])\n",
        "    if signal == 'hr':\n",
        "      X_hr.append(sample[signal])\n",
        "\n",
        "path = 'bot_only/eeg_images'\n",
        "_class = 'positive_class'\n",
        "eeg_to_image(X_eeg,path,_class)"
      ]
    },
    {
      "cell_type": "code",
      "execution_count": null,
      "metadata": {
        "id": "8fD0qWa-di8t"
      },
      "outputs": [],
      "source": [
        "for i,dat in enumerate(X_gsr):\n",
        "  #print(len(i))\n",
        "  for j, df in enumerate(dat):\n",
        "    df = df.reset_index(drop = True).T\n",
        "    df.to_csv(f'bot_only/gsr/positive_class/match_{i}_event_{j}.csv')"
      ]
    },
    {
      "cell_type": "code",
      "execution_count": null,
      "metadata": {
        "id": "kY3u8v_Xdi8u"
      },
      "outputs": [],
      "source": [
        "\n",
        "for i,dat in enumerate(X_hr):\n",
        "  for j, df in enumerate(dat):\n",
        "    hr_vals = pd.DataFrame(df['heart_rate'].reset_index(drop = True)).T\n",
        "    hr_vals.to_csv(f'bot_only/hr/positive_class/match_{i}_event_{j}.csv')"
      ]
    },
    {
      "cell_type": "markdown",
      "metadata": {
        "id": "MUOhV24zsLs2"
      },
      "source": [
        "### Get negative"
      ]
    },
    {
      "cell_type": "markdown",
      "metadata": {
        "id": "5OOc3MQMeNle"
      },
      "source": [
        "### Real"
      ]
    },
    {
      "cell_type": "code",
      "execution_count": null,
      "metadata": {
        "colab": {
          "base_uri": "https://localhost:8080/"
        },
        "id": "lQWbuSrMkewS",
        "outputId": "9ae4198d-f83f-4d1a-b6fc-2d3affd33106"
      },
      "outputs": [
        {
          "name": "stdout",
          "output_type": "stream",
          "text": [
            "n files in folder before: \n"
          ]
        },
        {
          "data": {
            "text/plain": [
              "0"
            ]
          },
          "execution_count": 70,
          "metadata": {},
          "output_type": "execute_result"
        }
      ],
      "source": [
        "print('n files in folder before: ')\n",
        "len(os.listdir('real_only/eeg_images/negative_class'))"
      ]
    },
    {
      "cell_type": "code",
      "execution_count": null,
      "metadata": {
        "id": "LaaLz6iXsI2q"
      },
      "outputs": [],
      "source": [
        "X_eeg = []\n",
        "X_gsr = []\n",
        "X_hr = []\n",
        "# class is a list of dictionaries\n",
        "for sample in real_negative_class:\n",
        "  for signal in sample:\n",
        "    if signal == 'eeg':\n",
        "      X_eeg.append(sample[signal])\n",
        "    if signal == 'gsr':\n",
        "      X_gsr.append(sample[signal])\n",
        "    if signal == 'hr':\n",
        "      X_hr.append(sample[signal])\n",
        "\n",
        "path = 'real_only/eeg_images'\n",
        "\n",
        "_class = 'negative_class'\n",
        "eeg_to_image(X_eeg,path,_class,eeg_combined_array,\"negative\")\n",
        "\n"
      ]
    },
    {
      "cell_type": "code",
      "execution_count": null,
      "metadata": {
        "colab": {
          "base_uri": "https://localhost:8080/"
        },
        "id": "OpZyC-kBkmRh",
        "outputId": "fc7a7b37-f869-46b3-b110-859fd9175a52"
      },
      "outputs": [
        {
          "name": "stdout",
          "output_type": "stream",
          "text": [
            "n files in folder after, should match real_neg_total for eeg: \n",
            "402\n"
          ]
        },
        {
          "data": {
            "text/plain": [
              "402"
            ]
          },
          "execution_count": 72,
          "metadata": {},
          "output_type": "execute_result"
        }
      ],
      "source": [
        "print('n files in folder after, should match real_neg_total for eeg: ')\n",
        "print(real_neg_total['eeg'])\n",
        "len(os.listdir('real_only/eeg_images/negative_class/'))"
      ]
    },
    {
      "cell_type": "code",
      "execution_count": null,
      "metadata": {
        "colab": {
          "base_uri": "https://localhost:8080/"
        },
        "id": "AcfaKOp_lj7z",
        "outputId": "10202a02-eecc-4f7b-9dc4-0eb5fb1e4e9b"
      },
      "outputs": [
        {
          "name": "stdout",
          "output_type": "stream",
          "text": [
            "n files in folder before: \n"
          ]
        },
        {
          "data": {
            "text/plain": [
              "0"
            ]
          },
          "execution_count": 73,
          "metadata": {},
          "output_type": "execute_result"
        }
      ],
      "source": [
        "print('n files in folder before: ')\n",
        "len(os.listdir('real_only/gsr/negative_class'))"
      ]
    },
    {
      "cell_type": "code",
      "execution_count": null,
      "metadata": {
        "id": "nyjWuRgBsTBt"
      },
      "outputs": [],
      "source": [
        "for i,dat in enumerate(X_gsr):\n",
        "  #print(len(i))\n",
        "  for j, df in enumerate(dat):\n",
        "    df = df.reset_index(drop = True).T\n",
        "    df.to_csv(f'real_only/gsr/negative_class/match_{i}_event_{j}.csv')"
      ]
    },
    {
      "cell_type": "code",
      "execution_count": null,
      "metadata": {
        "colab": {
          "base_uri": "https://localhost:8080/"
        },
        "id": "GLto9xZwlw_j",
        "outputId": "4946a3fb-5ef0-42ef-87a4-82eb239222cf"
      },
      "outputs": [
        {
          "name": "stdout",
          "output_type": "stream",
          "text": [
            "n files in folder after, should match real_neg_total for gsr: \n",
            "402\n"
          ]
        },
        {
          "data": {
            "text/plain": [
              "402"
            ]
          },
          "execution_count": 75,
          "metadata": {},
          "output_type": "execute_result"
        }
      ],
      "source": [
        "print('n files in folder after, should match real_neg_total for gsr: ')\n",
        "print(real_neg_total['gsr'])\n",
        "len(os.listdir('real_only/gsr/negative_class/'))"
      ]
    },
    {
      "cell_type": "code",
      "execution_count": null,
      "metadata": {
        "colab": {
          "base_uri": "https://localhost:8080/"
        },
        "id": "Q2GL22Mdl_LL",
        "outputId": "2b8e4fac-17f5-43f9-cd6e-9da9a4f769c1"
      },
      "outputs": [
        {
          "name": "stdout",
          "output_type": "stream",
          "text": [
            "n files in folder before: \n"
          ]
        },
        {
          "data": {
            "text/plain": [
              "0"
            ]
          },
          "execution_count": 76,
          "metadata": {},
          "output_type": "execute_result"
        }
      ],
      "source": [
        "print('n files in folder before: ')\n",
        "len(os.listdir('real_only/hr/negative_class'))"
      ]
    },
    {
      "cell_type": "code",
      "execution_count": null,
      "metadata": {
        "id": "SbINYXBgsYUx"
      },
      "outputs": [],
      "source": [
        "for i,dat in enumerate(X_hr):\n",
        "  #print(len(i))\n",
        "  for j, df in enumerate(dat):\n",
        "    #print(df)hr\n",
        "    hr_vals = pd.DataFrame(df['heart_rate'].reset_index(drop = True)).T\n",
        "    #hr_vals[8] = 1\n",
        "    #print(hr_vals)\n",
        "    hr_vals.to_csv(f'real_only/hr/negative_class/match_{i}_event_{j}.csv')"
      ]
    },
    {
      "cell_type": "code",
      "execution_count": null,
      "metadata": {
        "colab": {
          "base_uri": "https://localhost:8080/"
        },
        "id": "0BV_BGRImBjJ",
        "outputId": "6586c729-d0cc-4d2e-8cf2-8f6e7b92b818"
      },
      "outputs": [
        {
          "name": "stdout",
          "output_type": "stream",
          "text": [
            "n files in folder after, should match real_neg_total for gsr: \n",
            "402\n"
          ]
        },
        {
          "data": {
            "text/plain": [
              "402"
            ]
          },
          "execution_count": 78,
          "metadata": {},
          "output_type": "execute_result"
        }
      ],
      "source": [
        "print('n files in folder after, should match real_neg_total for gsr: ')\n",
        "print(real_neg_total['hr'])\n",
        "len(os.listdir('real_only/hr/negative_class/'))"
      ]
    },
    {
      "cell_type": "markdown",
      "metadata": {
        "id": "doSWeRamePK2"
      },
      "source": [
        "### Bot"
      ]
    },
    {
      "cell_type": "code",
      "execution_count": null,
      "metadata": {
        "id": "WXRnNJiheR5y"
      },
      "outputs": [],
      "source": [
        "X_eeg = []\n",
        "X_gsr = []\n",
        "X_hr = []\n",
        "# class is a list of dictionaries\n",
        "for sample in bot_negative_class:\n",
        "  for signal in sample:\n",
        "    #print(signal, len(sample[signal]))\n",
        "    if signal == 'eeg':\n",
        "      X_eeg.append(sample[signal])\n",
        "    if signal == 'gsr':\n",
        "      X_gsr.append(sample[signal])\n",
        "    if signal == 'hr':\n",
        "      X_hr.append(sample[signal])\n",
        "\n",
        "path = 'bot_only/eeg_images'\n",
        "_class = 'negative_class'\n",
        "eeg_to_image(X_eeg,path,_class)"
      ]
    },
    {
      "cell_type": "code",
      "execution_count": null,
      "metadata": {
        "id": "La3pfyhveR51"
      },
      "outputs": [],
      "source": [
        "for i,dat in enumerate(X_gsr):\n",
        "  for j, df in enumerate(dat):\n",
        "    df = df.reset_index(drop = True).T\n",
        "    df.to_csv(f'bot_only/gsr/negative_class/match_{i}_event_{j}.csv')"
      ]
    },
    {
      "cell_type": "code",
      "execution_count": null,
      "metadata": {
        "id": "X4revNZ5eR51"
      },
      "outputs": [],
      "source": [
        "for i,dat in enumerate(X_hr):\n",
        "  for j, df in enumerate(dat):\n",
        "    hr_vals = pd.DataFrame(df['heart_rate'].reset_index(drop = True)).T\n",
        "    hr_vals.to_csv(f'bot_only/hr/negative_class/match_{i}_event_{j}.csv')"
      ]
    },
    {
      "cell_type": "markdown",
      "metadata": {
        "id": "K2HdiPay93Px"
      },
      "source": [
        "# Validatino : Random forest and gradient boost on new EEG features"
      ]
    },
    {
      "cell_type": "markdown",
      "metadata": {
        "id": "e6YPdRoN98zp"
      },
      "source": [
        "## All combined"
      ]
    },
    {
      "cell_type": "code",
      "execution_count": null,
      "metadata": {
        "id": "bi4wrLWC97Yh"
      },
      "outputs": [],
      "source": [
        "pos_class = pd.read_csv('all_combined/positive_eeg.csv',header = None)\n",
        "neg_class = pd.read_csv('all_combined/negative_eeg.csv',header = None)"
      ]
    },
    {
      "cell_type": "code",
      "execution_count": null,
      "metadata": {
        "id": "5XkZL2q8-GrV"
      },
      "outputs": [],
      "source": [
        "## Code generated by GPT4/0\n",
        "\n",
        "import numpy as np\n",
        "import pandas as pd\n",
        "from sklearn.ensemble import RandomForestClassifier, GradientBoostingClassifier\n",
        "from sklearn.model_selection import GridSearchCV, cross_val_score\n",
        "from sklearn.metrics import accuracy_score, f1_score\n",
        "\n",
        "# Assuming pos_class and neg_class are numpy arrays\n",
        "# Combining the classes into a single dataset\n",
        "X = np.vstack((pos_class, neg_class))\n",
        "y = np.hstack((np.ones(pos_class.shape[0]), np.zeros(neg_class.shape[0])))\n",
        "\n",
        "# Defining the parameter grid for Grid Search\n",
        "rf_param_grid = {\n",
        "    'n_estimators': [50, 100, 200],\n",
        "    'max_depth': [None, 10, 20, 30],\n",
        "    'min_samples_split': [2, 5, 10]\n",
        "}\n",
        "\n",
        "gb_param_grid = {\n",
        "    'n_estimators': [50, 100, 200],\n",
        "    'learning_rate': [0.01, 0.1, 0.2],\n",
        "    'max_depth': [3, 4, 5]\n",
        "}\n",
        "\n",
        "# Initializing the models\n",
        "rf = RandomForestClassifier(random_state=42)\n",
        "gb = GradientBoostingClassifier(random_state=42)\n",
        "\n",
        "# # Performing Grid Search with cross-validation\n",
        "rf_grid_search = GridSearchCV(rf, rf_param_grid, cv=10, scoring='f1')\n",
        "gb_grid_search = GridSearchCV(gb, gb_param_grid, cv=10, scoring='f1')\n",
        "\n",
        "# Fitting the models\n",
        "rf_grid_search.fit(X, y)\n",
        "gb_grid_search.fit(X, y)\n",
        "\n",
        "# Best models\n",
        "best_rf = rf_grid_search.best_estimator_\n",
        "best_gb = gb_grid_search.best_estimator_\n",
        "\n",
        "# Cross-validation scores\n",
        "rf_cv_scores = cross_val_score(best_rf, X, y, cv=10, scoring='f1')\n",
        "gb_cv_scores = cross_val_score(best_gb, X, y, cv=10, scoring='f1')\n",
        "\n",
        "# Printing results\n",
        "print(f\"Random Forest Classifier F1 Score: {rf_cv_scores.mean():.2f} ± {rf_cv_scores.std():.2f}\")\n",
        "print(f\"Gradient Boosting Classifier F1 Score: {gb_cv_scores.mean():.2f} ± {gb_cv_scores.std():.2f}\")\n",
        "\n",
        "# Printing best parameters\n",
        "print(\"Best parameters for Random Forest:\")\n",
        "print(rf_grid_search.best_params_)\n",
        "\n",
        "print(\"Best parameters for Gradient Boosting:\")\n",
        "print(gb_grid_search.best_params_)\n",
        "\n",
        "# Accuracy scores (optional)\n",
        "rf_acc_scores = cross_val_score(best_rf, X, y, cv=10, scoring='accuracy')\n",
        "gb_acc_scores = cross_val_score(best_gb, X, y, cv=10, scoring='accuracy')\n",
        "\n",
        "print(f\"Random Forest Classifier Accuracy: {rf_acc_scores.mean():.2f} ± {rf_acc_scores.std():.2f}\")\n",
        "print(f\"Gradient Boosting Classifier Accuracy: {gb_acc_scores.mean():.2f} ± {gb_acc_scores.std():.2f}\")\n"
      ]
    },
    {
      "cell_type": "markdown",
      "metadata": {
        "id": "2nbRrxMfRKhV"
      },
      "source": [
        "## Real only"
      ]
    },
    {
      "cell_type": "code",
      "execution_count": null,
      "metadata": {
        "id": "l28umj-1RMfM"
      },
      "outputs": [],
      "source": [
        "pos_class = pd.read_csv('/content/drive/MyDrive/Tilburg/Masters CSAI/Year 1 - Semester 2/Brain Computer Interfacing/BCI Project/training data/context_4/real_only/positive_eeg.csv',header = None)\n",
        "neg_class = pd.read_csv('/content/drive/MyDrive/Tilburg/Masters CSAI/Year 1 - Semester 2/Brain Computer Interfacing/BCI Project/training data/context_4/real_only/negative_eeg.csv',header = None)"
      ]
    },
    {
      "cell_type": "code",
      "execution_count": null,
      "metadata": {
        "id": "oPWngyyHRMfP"
      },
      "outputs": [],
      "source": [
        "## Code generated by GPT4/0\n",
        "\n",
        "import numpy as np\n",
        "import pandas as pd\n",
        "from sklearn.ensemble import RandomForestClassifier, GradientBoostingClassifier\n",
        "from sklearn.model_selection import GridSearchCV, cross_val_score\n",
        "from sklearn.metrics import accuracy_score, f1_score\n",
        "\n",
        "# Assuming pos_class and neg_class are numpy arrays\n",
        "# Combining the classes into a single dataset\n",
        "X = np.vstack((pos_class, neg_class))\n",
        "y = np.hstack((np.ones(pos_class.shape[0]), np.zeros(neg_class.shape[0])))\n",
        "\n",
        "# Defining the parameter grid for Grid Search\n",
        "rf_param_grid = {\n",
        "    'n_estimators': [50, 100, 200],\n",
        "    'max_depth': [None, 10, 20, 30],\n",
        "    'min_samples_split': [2, 5, 10]\n",
        "}\n",
        "\n",
        "gb_param_grid = {\n",
        "    'n_estimators': [50, 100, 200],\n",
        "    'learning_rate': [0.01, 0.1, 0.2],\n",
        "    'max_depth': [3, 4, 5]\n",
        "}\n",
        "\n",
        "# Initializing the models\n",
        "rf = RandomForestClassifier(random_state=42)\n",
        "gb = GradientBoostingClassifier(random_state=42)\n",
        "\n",
        "# # Performing Grid Search with cross-validation\n",
        "rf_grid_search = GridSearchCV(rf, rf_param_grid, cv=10, scoring='f1')\n",
        "gb_grid_search = GridSearchCV(gb, gb_param_grid, cv=10, scoring='f1')\n",
        "\n",
        "# Fitting the models\n",
        "rf_grid_search.fit(X, y)\n",
        "gb_grid_search.fit(X, y)\n",
        "\n",
        "# Best models\n",
        "best_rf = rf_grid_search.best_estimator_\n",
        "best_gb = gb_grid_search.best_estimator_\n",
        "\n",
        "# Cross-validation scores\n",
        "rf_cv_scores = cross_val_score(best_rf, X, y, cv=10, scoring='f1')\n",
        "gb_cv_scores = cross_val_score(best_gb, X, y, cv=10, scoring='f1')\n",
        "\n",
        "# Printing results\n",
        "print(f\"Random Forest Classifier F1 Score: {rf_cv_scores.mean():.2f} ± {rf_cv_scores.std():.2f}\")\n",
        "print(f\"Gradient Boosting Classifier F1 Score: {gb_cv_scores.mean():.2f} ± {gb_cv_scores.std():.2f}\")\n",
        "\n",
        "# Printing best parameters\n",
        "print(\"Best parameters for Random Forest:\")\n",
        "print(rf_grid_search.best_params_)\n",
        "\n",
        "print(\"Best parameters for Gradient Boosting:\")\n",
        "print(gb_grid_search.best_params_)\n",
        "\n",
        "# Accuracy scores (optional)\n",
        "rf_acc_scores = cross_val_score(best_rf, X, y, cv=10, scoring='accuracy')\n",
        "gb_acc_scores = cross_val_score(best_gb, X, y, cv=10, scoring='accuracy')\n",
        "\n",
        "print(f\"Random Forest Classifier Accuracy: {rf_acc_scores.mean():.2f} ± {rf_acc_scores.std():.2f}\")\n",
        "print(f\"Gradient Boosting Classifier Accuracy: {gb_acc_scores.mean():.2f} ± {gb_acc_scores.std():.2f}\")\n"
      ]
    }
  ],
  "metadata": {
    "colab": {
      "collapsed_sections": [
        "vNxaItMCgCI5",
        "o9AN0BkVZx7q",
        "uphVRGtsctaZ",
        "CYae6iZLeJKD",
        "rhLm5ZpEddJR",
        "doSWeRamePK2",
        "3nlZpEVgupET"
      ],
      "provenance": [],
      "toc_visible": true
    },
    "kernelspec": {
      "display_name": "Python 3",
      "name": "python3"
    },
    "language_info": {
      "codemirror_mode": {
        "name": "ipython",
        "version": 3
      },
      "file_extension": ".py",
      "mimetype": "text/x-python",
      "name": "python",
      "nbconvert_exporter": "python",
      "pygments_lexer": "ipython3",
      "version": "3.10.11"
    }
  },
  "nbformat": 4,
  "nbformat_minor": 0
}
